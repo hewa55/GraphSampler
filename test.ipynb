{
 "cells": [
  {
   "cell_type": "code",
   "execution_count": 1,
   "metadata": {
    "collapsed": true,
    "pycharm": {
     "is_executing": false
    }
   },
   "outputs": [],
   "source": [
    "from GraphSampler import GraphSample\n",
    "import  collections\n",
    "from random import choice\n",
    "import math\n",
    "from collections import Counter\n",
    "import numpy as np\n",
    "import networkx as nx\n",
    "import matplotlib.pyplot as plt\n",
    "import pandas as pd\n",
    "import time\n",
    "from scipy.stats import ks_2samp\n"
   ]
  },
  {
   "cell_type": "code",
   "execution_count": 257,
   "outputs": [],
   "source": [
    "def degree_hist(g):\n",
    "    degree_sequence = sorted([d for n, d in g.degree()], reverse=True)  # degree sequence\n",
    "    # print \"Degree sequence\", degree_sequence\n",
    "    degreeCount = collections.Counter(degree_sequence)\n",
    "    # returns degree, count\n",
    "    return zip(*degreeCount.items())"
   ],
   "metadata": {
    "collapsed": false,
    "pycharm": {
     "name": "#%%\n",
     "is_executing": false
    }
   }
  },
  {
   "cell_type": "code",
   "execution_count": 261,
   "outputs": [],
   "source": [
    "g = nx.powerlaw_cluster_graph(200000,10,0.1)"
   ],
   "metadata": {
    "collapsed": false,
    "pycharm": {
     "name": "#%%\n",
     "is_executing": false
    }
   }
  },
  {
   "cell_type": "code",
   "execution_count": 266,
   "outputs": [],
   "source": [
    "nodes, edges = GraphSample().list_sampling(g,target_size=0.0001)\n",
    "g_sample = nx.Graph()\n",
    "g_sample.add_nodes_from(nodes)\n",
    "g_sample.add_edges_from(edges)"
   ],
   "metadata": {
    "collapsed": false,
    "pycharm": {
     "name": "#%%\n",
     "is_executing": false
    }
   }
  },
  {
   "cell_type": "code",
   "execution_count": 264,
   "outputs": [],
   "source": [
    "nodes_gmd, edges_gmd, eps = GraphSample().gmd(g,target_size=0.1, C= 71)"
   ],
   "metadata": {
    "collapsed": false,
    "pycharm": {
     "name": "#%%\n",
     "is_executing": false
    }
   }
  },
  {
   "cell_type": "code",
   "execution_count": 265,
   "outputs": [],
   "source": [
    "nodes_rcmh, edges_rcmh = GraphSample().rcmhrw(g,target_size = 0.1, alpha= 0.1)"
   ],
   "metadata": {
    "collapsed": false,
    "pycharm": {
     "name": "#%%\n",
     "is_executing": false
    }
   }
  },
  {
   "cell_type": "code",
   "execution_count": 271,
   "outputs": [
    {
     "name": "stdout",
     "text": [
      "0.024340286350332422\n",
      "0.019260648934547\n",
      "0.017362474086165435\n"
     ],
     "output_type": "stream"
    }
   ],
   "source": [
    "sampler = GraphSample()\n",
    "c = nx.algorithms.average_clustering(g_sample)\n",
    "print(c)\n",
    "c1 = sampler.avg_clustering_gmd(g, nodes_gmd, eps, 0)\n",
    "print(c1)\n",
    "c2 = sampler.avg_clustering_rcmh(g,nodes_rcmh,0.1)\n",
    "print(c2)"
   ],
   "metadata": {
    "collapsed": false,
    "pycharm": {
     "name": "#%%\n",
     "is_executing": false
    }
   }
  },
  {
   "cell_type": "code",
   "execution_count": 268,
   "outputs": [],
   "source": [
    "rcmh_subgraph = g.subgraph(nodes_rcmh)"
   ],
   "metadata": {
    "collapsed": false,
    "pycharm": {
     "name": "#%%\n",
     "is_executing": false
    }
   }
  },
  {
   "cell_type": "code",
   "execution_count": 2,
   "outputs": [],
   "source": [
    "web = nx.read_edgelist(\"data/web-BerkStan.txt\")"
   ],
   "metadata": {
    "collapsed": false,
    "pycharm": {
     "name": "#%%\n",
     "is_executing": false
    }
   }
  },
  {
   "cell_type": "code",
   "execution_count": 3,
   "outputs": [
    {
     "name": "stdout",
     "text": [
      "685230\n",
      "6649470\n"
     ],
     "output_type": "stream"
    }
   ],
   "source": [
    "print(len(web.nodes))\n",
    "# should be 685230\n",
    "print(len(web.edges))\n",
    "# should be 7600595"
   ],
   "metadata": {
    "collapsed": false,
    "pycharm": {
     "name": "#%%\n",
     "is_executing": false
    }
   }
  },
  {
   "cell_type": "code",
   "execution_count": 34,
   "outputs": [
    {
     "name": "stdout",
     "text": [
      "Empty DataFrame\n",
      "Columns: [percentage, n, avg_clustering, degrees, run, time_sample, time_clust]\n",
      "Index: []\n"
     ],
     "output_type": "stream"
    }
   ],
   "source": [
    "experiment_result = pd.DataFrame(columns=[\"percentage\",\"n\",\"avg_clustering\",\"degrees\",\"run\",\n",
    "                                          \"time_sample\",\"time_clust\"])\n",
    "print(experiment_result)"
   ],
   "metadata": {
    "collapsed": false,
    "pycharm": {
     "name": "#%%\n",
     "is_executing": false
    }
   }
  },
  {
   "cell_type": "code",
   "execution_count": 103,
   "outputs": [
    {
     "name": "stdout",
     "text": [
      "n 1\n",
      "run 0\n",
      "n 2\n",
      "run 0\n",
      "n 3\n",
      "run 0\n",
      "n 4\n",
      "run 0\n",
      "n 5\n",
      "run 0\n"
     ],
     "output_type": "stream"
    }
   ],
   "source": [
    "def run_experiment(graph, start_n,finish_n,step_n, runs_per_n):\n",
    "    experiment_result = pd.DataFrame(columns=[\"percentage\",\"n\",\"avg_clustering\",\"degrees\",\"run\",\n",
    "                                          \"time_sample\",\"time_clust\"])\n",
    "    sampler = GraphSample()\n",
    "    for n in range(start_n*1000,finish_n*1000,step_n*1000):\n",
    "        print(\"n %s\" % n)\n",
    "        for run in range(0,runs_per_n):\n",
    "            print(\"run %s\" % run)\n",
    "            \n",
    "            time_sample_start = time.time()\n",
    "            nodes_gmd, edges_gmd, eps = GraphSample().gmd(graph,target_size=n/1000, C= 71)\n",
    "            time_sample = time.time() - time_sample_start\n",
    "            time_sample = float('%.2f' % time_sample)\n",
    "            \n",
    "            nodes = len(nodes_gmd)\n",
    "            \n",
    "            time_clust_start = time.time()\n",
    "            clustering = sampler.avg_clustering_gmd(graph,nodes_gmd,eps,71)\n",
    "            time_clust = time.time() - time_clust_start\n",
    "            time_clust = float('%.2f' % time_clust)\n",
    "            \n",
    "            degrees = web.degree(nbunch=nodes_gmd)\n",
    "            experiment_result = experiment_result.append({\"percentage\":n,\"n\":nodes,\"avg_clustering\":clustering,\n",
    "                                      \"degrees\":degrees,\"run\":run,\"C\":71,\n",
    "                                      \"time_sample\":time_sample,\"time_clust\":time_clust}, ignore_index=True)\n",
    "    return experiment_result\n"
   ],
   "metadata": {
    "collapsed": false,
    "pycharm": {
     "name": "#%%\n",
     "is_executing": false
    }
   }
  },
  {
   "cell_type": "code",
   "execution_count": 109,
   "outputs": [
    {
     "data": {
      "text/plain": "<matplotlib.collections.PathCollection at 0x7f70cea4f550>"
     },
     "metadata": {},
     "output_type": "execute_result",
     "execution_count": 109
    },
    {
     "data": {
      "text/plain": "<Figure size 432x288 with 1 Axes>",
      "image/png": "[encoded data removed]"
     },
     "metadata": {
      "needs_background": "light"
     },
     "output_type": "display_data"
    }
   ],
   "source": [
    "%matplotlib inline\n",
    "plt.scatter(experiment_result[\"n\"],abs(0.59-experiment_result[\"avg_clustering\"]))"
   ],
   "metadata": {
    "collapsed": false,
    "pycharm": {
     "name": "#%%\n",
     "is_executing": false
    }
   }
  },
  {
   "cell_type": "code",
   "execution_count": null,
   "outputs": [],
   "source": [
    "g = nx.powerlaw_cluster_graph(200,10,0.1)\n",
    "nodes, edges = GraphSample().list_sampling(g,target_size=0.0001)\n",
    "g_sample = nx.Graph()\n",
    "g_sample.add_nodes_from(nodes)\n",
    "g_sample.add_edges_from(edges)"
   ],
   "metadata": {
    "collapsed": false,
    "pycharm": {
     "name": "#%%\n"
    }
   }
  },
  {
   "cell_type": "code",
   "execution_count": 13,
   "outputs": [],
   "source": [
    "def run_experiment_web(graph):\n",
    "    experiment_result = pd.DataFrame(columns=[\"percentage\",\"avg_clustering\",\"degrees\",\n",
    "                                              \"alg\",\"C\",\"alpha\",\"m\",\"time_sample\",\"time_clust\",\"V\"])\n",
    "    sampler = GraphSample()\n",
    "    for n in range(1,2):\n",
    "        print(\"n %s\" % n)\n",
    "        target_size = n/100\n",
    "        \n",
    "        C = 71\n",
    "        alpha = 0.2\n",
    "        time_sample_start = time.time()\n",
    "        nodes, edges = GraphSample().list_sampling(graph,target_size=target_size, V2=True)\n",
    "        time_sample = time.time() - time_sample_start\n",
    "        time_sample = float('%.2f' % time_sample)\n",
    "        \n",
    "        g_sample = nx.Graph()\n",
    "        g_sample.add_nodes_from(nodes)\n",
    "        g_sample.add_edges_from(edges)\n",
    "        time_clust_start = time.time()\n",
    "        list_clust = nx.average_clustering(g_sample)\n",
    "        time_clust = time.time() - time_clust_start\n",
    "        time_clust = float('%.2f' % time_clust)\n",
    "        \n",
    "        experiment_result = experiment_result.append({\"percentage\":target_size,\"avg_clustering\":list_clust,\n",
    "                                  \"degrees\":nx.degree(g_sample),\"alg\":\"list\",\"time_sample\":time_sample,\n",
    "                                                      \"time_clust\":time_clust,\"V\":2},ignore_index=True)\n",
    "        \n",
    "        time_sample_start = time.time()\n",
    "        nodes_gmd, edges_gmd, eps = GraphSample().gmd(graph,target_size=target_size, C=C)\n",
    "        time_sample = time.time() - time_sample_start\n",
    "        time_sample = float('%.2f' % time_sample)\n",
    "        \n",
    "        time_clust_start = time.time()\n",
    "        gmd_clust = sampler.avg_clustering_gmd(graph,nodes_gmd,eps,C)\n",
    "        time_clust = time.time() - time_clust_start\n",
    "        time_clust = float('%.2f' % time_clust)\n",
    "        \n",
    "        experiment_result = experiment_result.append({\"percentage\":target_size,\"avg_clustering\":gmd_clust,\n",
    "                                  \"degrees\":nx.degree(graph,nodes_gmd),\"alg\":\"gmd\",\"time_sample\":time_sample,\n",
    "                                   \"time_clust\":time_clust, \"C\":C},ignore_index=True)\n",
    "            \n",
    "        time_sample_start = time.time()\n",
    "        nodes_rcmh, edges_rcmh = GraphSample().rcmhrw(graph,target_size = target_size, alpha= alpha)\n",
    "        time_sample = time.time() - time_sample_start\n",
    "        time_sample = float('%.2f' % time_sample)\n",
    "        \n",
    "        time_clust_start = time.time()\n",
    "        rcmh_clust = sampler.avg_clustering_rcmh(graph,nodes_rcmh,alpha)\n",
    "        time_clust = time.time() - time_clust_start\n",
    "        time_clust = float('%.2f' % time_clust)\n",
    "                    \n",
    "        experiment_result = experiment_result.append({\"percentage\":target_size,\"avg_clustering\":rcmh_clust,\n",
    "                                  \"degrees\":nx.degree(graph,nodes_rcmh),\"alg\":\"rcmh\",\"time_sample\":time_sample,\n",
    "                                    \"time_clust\":time_clust,\"alpha\":alpha},ignore_index=True)\n",
    "    \n",
    "    return experiment_result"
   ],
   "metadata": {
    "collapsed": false,
    "pycharm": {
     "name": "#%%\n",
     "is_executing": false
    }
   }
  },
  {
   "cell_type": "code",
   "execution_count": 14,
   "outputs": [],
   "source": [
    "def run_ba(m_list,target_size,C, alpha):\n",
    "    sampler = GraphSample()\n",
    "    experiment_result = pd.DataFrame(columns=[\"percentage\",\"avg_clustering\",\"degrees\",\n",
    "                                              \"true_clust\",\"alg\",\"C\",\"alpha\",\"m\",\"true_degree\",\"V\"])\n",
    "    for m in m_list:\n",
    "        print(m)\n",
    "        g = nx.barabasi_albert_graph(5000,m, seed = 0)\n",
    "        true_clust = nx.average_clustering(g)\n",
    "        for run in range(5):\n",
    "         \n",
    "            nodes, edges = GraphSample().list_sampling(g,target_size=target_size)\n",
    "            g_sample = nx.Graph()\n",
    "            g_sample.add_nodes_from(nodes)\n",
    "            g_sample.add_edges_from(edges)\n",
    "            list_clust = nx.average_clustering(g_sample)\n",
    "            experiment_result = experiment_result.append({\"percentage\":target_size,\"avg_clustering\":list_clust,\n",
    "                                      \"degrees\":nx.degree(g_sample),\"true_clust\":true_clust,\n",
    "                                      \"alg\":\"list\",\"m\":m,\"true_degree\":nx.degree(g),\"V\":1},ignore_index=True)\n",
    "            nodes, edges = GraphSample().list_sampling(g,target_size=target_size, V2=True)\n",
    "            g_sample = nx.Graph()\n",
    "            g_sample.add_nodes_from(nodes)\n",
    "            g_sample.add_edges_from(edges)\n",
    "            list_clust = nx.average_clustering(g_sample)\n",
    "            experiment_result = experiment_result.append({\"percentage\":target_size,\"avg_clustering\":list_clust,\n",
    "                                      \"degrees\":nx.degree(g_sample),\"true_clust\":true_clust,\n",
    "                                      \"alg\":\"list\",\"m\":m,\"true_degree\":nx.degree(g),\"V\":2},ignore_index=True)\n",
    "            \n",
    "            nodes_gmd, edges_gmd, eps = GraphSample().gmd(g,target_size=target_size, C= C)\n",
    "            gmd_clust = sampler.avg_clustering_gmd(g,nodes_gmd,eps,C)\n",
    "            experiment_result = experiment_result.append({\"percentage\":target_size,\"avg_clustering\":gmd_clust,\n",
    "                                      \"degrees\":nx.degree(g,nodes_gmd),\"true_clust\":true_clust,\n",
    "                                      \"alg\":\"gmd\", \"C\": C,\"m\":m,\"true_degree\":nx.degree(g)},ignore_index=True)    \n",
    "            nodes_rcmh, edges_rcmh = GraphSample().rcmhrw(g,target_size = target_size, alpha= alpha)\n",
    "            rcmh_clust = sampler.avg_clustering_rcmh(g,nodes_rcmh,alpha)\n",
    "            experiment_result = experiment_result.append({\"percentage\":target_size,\"avg_clustering\":rcmh_clust,\n",
    "                                      \"degrees\":nx.degree(g,nodes_rcmh),\"true_clust\":true_clust,\n",
    "                                      \"alg\":\"rcmh\", \"alpha\": alpha,\"m\":m,\"true_degree\":nx.degree(g)},ignore_index=True)    \n",
    "    return experiment_result           "
   ],
   "metadata": {
    "collapsed": false,
    "pycharm": {
     "name": "#%%\n",
     "is_executing": false
    }
   }
  },
  {
   "cell_type": "code",
   "execution_count": 15,
   "outputs": [],
   "source": [
    "def run_gnp(m_list,target_size):\n",
    "    sampler = GraphSample()\n",
    "    experiment_result = pd.DataFrame(columns=[\"percentage\",\"avg_clustering\",\"degrees\",\n",
    "                                              \"true_clust\",\"alg\",\"C\",\"alpha\",\"p\",\"true_degree\",\"V\"])\n",
    "    for p in m_list:\n",
    "        \n",
    "        print(p)\n",
    "        g = nx.gnp_random_graph(5000,p, seed = 0)\n",
    "        true_clust = nx.average_clustering(g)\n",
    "         \n",
    "        nodes, edges = GraphSample().list_sampling(g,target_size=target_size)\n",
    "        g_sample = nx.Graph()\n",
    "        g_sample.add_nodes_from(nodes)\n",
    "        g_sample.add_edges_from(edges)\n",
    "        list_clust = nx.average_clustering(g_sample)\n",
    "        experiment_result = experiment_result.append({\"percentage\":target_size,\"avg_clustering\":list_clust,\n",
    "                                      \"degrees\":nx.degree(g_sample),\"true_clust\":true_clust,\n",
    "                                      \"alg\":\"list\",\"p\":p,\"true_degree\":nx.degree(g), \"V\":1},ignore_index=True)\n",
    "        nodes, edges = GraphSample().list_sampling(g,target_size=target_size, V2=True)\n",
    "        g_sample = nx.Graph()\n",
    "        g_sample.add_nodes_from(nodes)\n",
    "        g_sample.add_edges_from(edges)\n",
    "        list_clust = nx.average_clustering(g_sample)\n",
    "        experiment_result = experiment_result.append({\"percentage\":target_size,\"avg_clustering\":list_clust,\n",
    "                                      \"degrees\":nx.degree(g_sample),\"true_clust\":true_clust,\n",
    "                                      \"alg\":\"list\",\"p\":p,\"true_degree\":nx.degree(g), \"V\":2},ignore_index=True)\n",
    "        for run in range(6):\n",
    "            c_options = {0:0,1:30,2:50,3:70,4:100,5:150}\n",
    "            C = c_options[run]\n",
    "            nodes_gmd, edges_gmd, eps = GraphSample().gmd(g,target_size=target_size, C= C)\n",
    "            gmd_clust = sampler.avg_clustering_gmd(g,nodes_gmd,eps,C)\n",
    "            experiment_result = experiment_result.append({\"percentage\":target_size,\"avg_clustering\":gmd_clust,\n",
    "                                      \"degrees\":nx.degree(g,nodes_gmd),\"true_clust\":true_clust,\n",
    "                                      \"alg\":\"gmd\", \"C\": C,\"p\":p,\"true_degree\":nx.degree(g)},ignore_index=True)\n",
    "            alpha_options = {0:0,1:0.2,2:0.4,3:0.6,4:0.8,5:1}\n",
    "            alpha = alpha_options[run]\n",
    "            \n",
    "            nodes_rcmh, edges_rcmh = GraphSample().rcmhrw(g,target_size = target_size, alpha= alpha)\n",
    "            rcmh_clust = sampler.avg_clustering_rcmh(g,nodes_rcmh,alpha)\n",
    "            experiment_result = experiment_result.append({\"percentage\":target_size,\"avg_clustering\":rcmh_clust,\n",
    "                                      \"degrees\":nx.degree(g,nodes_rcmh),\"true_clust\":true_clust,\n",
    "                                      \"alg\":\"rcmh\", \"alpha\": alpha,\"p\":p,\"true_degree\":nx.degree(g)},ignore_index=True)    \n",
    "    return experiment_result"
   ],
   "metadata": {
    "collapsed": false,
    "pycharm": {
     "name": "#%%\n",
     "is_executing": false
    }
   }
  },
  {
   "cell_type": "code",
   "execution_count": 16,
   "outputs": [
    {
     "name": "stdout",
     "text": [
      "1\n",
      "26\n",
      "75\n",
      "250\n",
      "500\n"
     ],
     "output_type": "stream"
    }
   ],
   "source": [
    "experiment_result = run_ba([1,26,75,250,500],0.1,71,0.1)\n",
    "experiment_result.to_csv(\"results/barabasi.csv\")"
   ],
   "metadata": {
    "collapsed": false,
    "pycharm": {
     "name": "#%%\n",
     "is_executing": false
    }
   }
  },
  {
   "cell_type": "code",
   "execution_count": 17,
   "outputs": [
    {
     "name": "stdout",
     "text": [
      "0.01\n",
      "0.05\n",
      "0.1\n"
     ],
     "output_type": "stream"
    }
   ],
   "source": [
    "experiment_result = run_gnp([0.01,0.05,0.1],0.1)\n",
    "experiment_result.to_csv(\"results/gnp.csv\")"
   ],
   "metadata": {
    "collapsed": false,
    "pycharm": {
     "name": "#%%\n",
     "is_executing": false
    }
   }
  },
  {
   "cell_type": "code",
   "execution_count": 18,
   "outputs": [
    {
     "name": "stdout",
     "text": [
      "0.01\n",
      "0.05\n",
      "0.1\n"
     ],
     "output_type": "stream"
    }
   ],
   "source": [
    "experiment_result = run_gnp([0.01,0.05,0.1],0.01)\n",
    "experiment_result.to_csv(\"results/gnp_smaller_sample.csv\")"
   ],
   "metadata": {
    "collapsed": false,
    "pycharm": {
     "name": "#%%\n",
     "is_executing": false
    }
   }
  },
  {
   "cell_type": "code",
   "execution_count": 19,
   "outputs": [
    {
     "name": "stdout",
     "text": [
      "n 1\n"
     ],
     "output_type": "stream"
    }
   ],
   "source": [
    "web = nx.read_edgelist(\"data/web-BerkStan.txt\")\n",
    "experiment_result = run_experiment_web(web)\n",
    "experiment_result.to_csv(\"results/web.csv\")"
   ],
   "metadata": {
    "collapsed": false,
    "pycharm": {
     "name": "#%%\n",
     "is_executing": false
    }
   }
  },
  {
   "cell_type": "code",
   "execution_count": 6,
   "outputs": [],
   "source": [
    "def convert_degree(entry):\n",
    "    temp = entry.replace(\"(\",\"\")\n",
    "    temp = temp.replace(\")\",\"\")\n",
    "    temp = temp.replace(\"[\",\"\")\n",
    "    temp = temp.replace(\"]\",\"\")\n",
    "    temp = temp.replace(\" \",\"\")\n",
    "    temp = temp.split(\",\")\n",
    "    temp = list(map(int,temp))\n",
    "    final_true  = list()\n",
    "    for x in range(0,len(temp),2):\n",
    "        final_true.append((temp[x],temp[x+1]))\n",
    "    return(final_true)"
   ],
   "metadata": {
    "collapsed": false,
    "pycharm": {
     "name": "#%%\n",
     "is_executing": false
    }
   }
  },
  {
   "cell_type": "code",
   "execution_count": 61,
   "outputs": [],
   "source": [
    "results_web = pd.read_csv(\"results/web.csv\")"
   ],
   "metadata": {
    "collapsed": false,
    "pycharm": {
     "name": "#%%\n",
     "is_executing": false
    }
   }
  },
  {
   "cell_type": "code",
   "execution_count": 62,
   "outputs": [
    {
     "data": {
      "text/plain": "Unnamed: 0                                                        2\npercentage                                                     0.01\navg_clustering                                              0.43833\ndegrees           [('648652', 2), ('648654', 3), ('648652', 2), ...\nalg                                                            rcmh\nC                                                               NaN\nalpha                                                           0.2\nm                                                               NaN\ntime_sample                                                    3.19\ntime_clust                                                    190.6\nV                                                               NaN\nName: 2, dtype: object"
     },
     "metadata": {},
     "output_type": "execute_result",
     "execution_count": 62
    }
   ],
   "source": [
    "results_web.loc[2]"
   ],
   "metadata": {
    "collapsed": false,
    "pycharm": {
     "name": "#%%\n",
     "is_executing": false
    }
   }
  },
  {
   "cell_type": "code",
   "execution_count": 63,
   "outputs": [
    {
     "traceback": [
      "\u001b[0;31m---------------------------------------------------------------------------\u001b[0m",
      "\u001b[0;31mValueError\u001b[0m                                Traceback (most recent call last)",
      "\u001b[0;32m<ipython-input-63-afc59e4945df>\u001b[0m in \u001b[0;36m<module>\u001b[0;34m\u001b[0m\n\u001b[1;32m      2\u001b[0m \u001b[0;31m#deg = [x[1] for x in true_degree]\u001b[0m\u001b[0;34m\u001b[0m\u001b[0;34m\u001b[0m\u001b[0;34m\u001b[0m\u001b[0m\n\u001b[1;32m      3\u001b[0m \u001b[0;31m#plt.hist([x for x in deg], alpha=0.5, label='x', density=True, log =True)\u001b[0m\u001b[0;34m\u001b[0m\u001b[0;34m\u001b[0m\u001b[0;34m\u001b[0m\u001b[0m\n\u001b[0;32m----> 4\u001b[0;31m \u001b[0mtrue_degree\u001b[0m \u001b[0;34m=\u001b[0m \u001b[0mconvert_degree\u001b[0m\u001b[0;34m(\u001b[0m\u001b[0mresults_web\u001b[0m\u001b[0;34m.\u001b[0m\u001b[0mloc\u001b[0m\u001b[0;34m[\u001b[0m\u001b[0;36m2\u001b[0m\u001b[0;34m]\u001b[0m\u001b[0;34m[\u001b[0m\u001b[0;34m\"degrees\"\u001b[0m\u001b[0;34m]\u001b[0m\u001b[0;34m)\u001b[0m\u001b[0;34m\u001b[0m\u001b[0;34m\u001b[0m\u001b[0m\n\u001b[0m\u001b[1;32m      5\u001b[0m \u001b[0mdeg\u001b[0m \u001b[0;34m=\u001b[0m \u001b[0;34m[\u001b[0m\u001b[0mx\u001b[0m\u001b[0;34m[\u001b[0m\u001b[0;36m1\u001b[0m\u001b[0;34m]\u001b[0m \u001b[0;32mfor\u001b[0m \u001b[0mx\u001b[0m \u001b[0;32min\u001b[0m \u001b[0mtrue_degree\u001b[0m\u001b[0;34m]\u001b[0m\u001b[0;34m\u001b[0m\u001b[0;34m\u001b[0m\u001b[0m\n\u001b[1;32m      6\u001b[0m \u001b[0mplt\u001b[0m\u001b[0;34m.\u001b[0m\u001b[0mhist\u001b[0m\u001b[0;34m(\u001b[0m\u001b[0;34m[\u001b[0m\u001b[0mx\u001b[0m \u001b[0;32mfor\u001b[0m \u001b[0mx\u001b[0m \u001b[0;32min\u001b[0m \u001b[0mdeg\u001b[0m\u001b[0;34m]\u001b[0m\u001b[0;34m,\u001b[0m \u001b[0malpha\u001b[0m\u001b[0;34m=\u001b[0m\u001b[0;36m0.5\u001b[0m\u001b[0;34m,\u001b[0m \u001b[0mlabel\u001b[0m\u001b[0;34m=\u001b[0m\u001b[0;34m'y'\u001b[0m\u001b[0;34m,\u001b[0m \u001b[0mdensity\u001b[0m\u001b[0;34m=\u001b[0m\u001b[0;32mTrue\u001b[0m\u001b[0;34m,\u001b[0m \u001b[0mlog\u001b[0m \u001b[0;34m=\u001b[0m\u001b[0;32mTrue\u001b[0m\u001b[0;34m)\u001b[0m\u001b[0;34m\u001b[0m\u001b[0;34m\u001b[0m\u001b[0m\n",
      "\u001b[0;32m<ipython-input-23-f8cbe194826b>\u001b[0m in \u001b[0;36mconvert_degree\u001b[0;34m(entry)\u001b[0m\n\u001b[1;32m      6\u001b[0m     \u001b[0mtemp\u001b[0m \u001b[0;34m=\u001b[0m \u001b[0mtemp\u001b[0m\u001b[0;34m.\u001b[0m\u001b[0mreplace\u001b[0m\u001b[0;34m(\u001b[0m\u001b[0;34m\" \"\u001b[0m\u001b[0;34m,\u001b[0m\u001b[0;34m\"\"\u001b[0m\u001b[0;34m)\u001b[0m\u001b[0;34m\u001b[0m\u001b[0;34m\u001b[0m\u001b[0m\n\u001b[1;32m      7\u001b[0m     \u001b[0mtemp\u001b[0m \u001b[0;34m=\u001b[0m \u001b[0mtemp\u001b[0m\u001b[0;34m.\u001b[0m\u001b[0msplit\u001b[0m\u001b[0;34m(\u001b[0m\u001b[0;34m\",\"\u001b[0m\u001b[0;34m)\u001b[0m\u001b[0;34m\u001b[0m\u001b[0;34m\u001b[0m\u001b[0m\n\u001b[0;32m----> 8\u001b[0;31m     \u001b[0mtemp\u001b[0m \u001b[0;34m=\u001b[0m \u001b[0mlist\u001b[0m\u001b[0;34m(\u001b[0m\u001b[0mmap\u001b[0m\u001b[0;34m(\u001b[0m\u001b[0mint\u001b[0m\u001b[0;34m,\u001b[0m\u001b[0mtemp\u001b[0m\u001b[0;34m)\u001b[0m\u001b[0;34m)\u001b[0m\u001b[0;34m\u001b[0m\u001b[0;34m\u001b[0m\u001b[0m\n\u001b[0m\u001b[1;32m      9\u001b[0m     \u001b[0mfinal_true\u001b[0m  \u001b[0;34m=\u001b[0m \u001b[0mlist\u001b[0m\u001b[0;34m(\u001b[0m\u001b[0;34m)\u001b[0m\u001b[0;34m\u001b[0m\u001b[0;34m\u001b[0m\u001b[0m\n\u001b[1;32m     10\u001b[0m     \u001b[0;32mfor\u001b[0m \u001b[0mx\u001b[0m \u001b[0;32min\u001b[0m \u001b[0mrange\u001b[0m\u001b[0;34m(\u001b[0m\u001b[0;36m0\u001b[0m\u001b[0;34m,\u001b[0m\u001b[0mlen\u001b[0m\u001b[0;34m(\u001b[0m\u001b[0mtemp\u001b[0m\u001b[0;34m)\u001b[0m\u001b[0;34m,\u001b[0m\u001b[0;36m2\u001b[0m\u001b[0;34m)\u001b[0m\u001b[0;34m:\u001b[0m\u001b[0;34m\u001b[0m\u001b[0;34m\u001b[0m\u001b[0m\n",
      "\u001b[0;31mValueError\u001b[0m: invalid literal for int() with base 10: \"'648652'\""
     ],
     "ename": "ValueError",
     "evalue": "invalid literal for int() with base 10: \"'648652'\"",
     "output_type": "error"
    }
   ],
   "source": [
    "#true_degree = convert_degree(results_web.loc[2][\"true_degree\"]) \n",
    "#deg = [x[1] for x in true_degree]\n",
    "#plt.hist([x for x in deg], alpha=0.5, label='x', density=True, log =True)\n",
    "true_degree = convert_degree(results_web.loc[2][\"degrees\"]) \n",
    "deg = [x[1] for x in true_degree]\n",
    "plt.hist([x for x in deg], alpha=0.5, label='y', density=True, log =True)\n",
    "plt.xlabel(\"Degree\")\n",
    "plt.ylabel(\"Count (log scale)\")"
   ],
   "metadata": {
    "collapsed": false,
    "pycharm": {
     "name": "#%%\n",
     "is_executing": false
    }
   }
  },
  {
   "cell_type": "code",
   "execution_count": 64,
   "outputs": [
    {
     "name": "stdout",
     "text": [
      "648652\n"
     ],
     "output_type": "stream"
    }
   ],
   "source": [
    "print(int('648652'))"
   ],
   "metadata": {
    "collapsed": false,
    "pycharm": {
     "name": "#%%\n",
     "is_executing": false
    }
   }
  },
  {
   "cell_type": "code",
   "execution_count": 2,
   "outputs": [],
   "source": [
    "results = pd.read_csv(\"results/barabasi.csv\")\n"
   ],
   "metadata": {
    "collapsed": false,
    "pycharm": {
     "name": "#%%\n",
     "is_executing": false
    }
   }
  },
  {
   "cell_type": "code",
   "execution_count": 89,
   "outputs": [
    {
     "data": {
      "text/plain": "<Figure size 432x288 with 1 Axes>",
      "image/png": "[encoded data removed]"
     },
     "metadata": {
      "needs_background": "light"
     },
     "output_type": "display_data"
    }
   ],
   "source": [
    "true_degree = convert_degree(results.loc[20][\"true_degree\"]) \n",
    "deg = [x[1] for x in true_degree]\n",
    "plt.hist([x for x in deg], alpha=0.5, label='x', log=True)\n",
    "plt.xlabel(\"Degree\")\n",
    "plt.ylabel(\"Count (log scale)\")\n",
    "plt.savefig(\"BA_model_h1.png\")"
   ],
   "metadata": {
    "collapsed": false,
    "pycharm": {
     "name": "#%%\n",
     "is_executing": false
    }
   }
  },
  {
   "cell_type": "code",
   "execution_count": 98,
   "outputs": [
    {
     "data": {
      "text/plain": "<Figure size 432x288 with 4 Axes>",
      "image/png": "[encoded data removed]"
     },
     "metadata": {
      "needs_background": "light"
     },
     "output_type": "display_data"
    }
   ],
   "source": [
    "fig = plt.figure()\n",
    "\n",
    "plt.subplot(2, 2, 1)\n",
    "true_degree = convert_degree(results.loc[20][\"true_degree\"]) \n",
    "deg = [x[1] for x in true_degree]\n",
    "plt.hist([x for x in deg], alpha=0.5, label='x', log=True)\n",
    "#plt.xlabel(\"Degree\")\n",
    "plt.ylabel(\"Count (log scale)\")\n",
    "\n",
    "plt.subplot(2, 2, 2)\n",
    "true_degree = convert_degree(results.loc[30][\"true_degree\"]) \n",
    "deg = [x[1] for x in true_degree]\n",
    "plt.hist([x for x in deg], alpha=0.5, label='x', log=True)\n",
    "#plt.xlabel(\"Degree\")\n",
    "#plt.ylabel(\"Count (log scale)\")\n",
    "\n",
    "plt.subplot(2, 2, 3)\n",
    "true_degree = convert_degree(results.loc[50][\"true_degree\"]) \n",
    "deg = [x[1] for x in true_degree]\n",
    "plt.hist([x for x in deg], alpha=0.5, label='x', log=True)\n",
    "plt.xlabel(\"Degree\")\n",
    "plt.ylabel(\"Count (log scale)\")\n",
    "\n",
    "plt.subplot(2, 2, 4)\n",
    "true_degree = convert_degree(results.loc[60][\"true_degree\"]) \n",
    "deg = [x[1] for x in true_degree]\n",
    "plt.hist([x for x in deg], alpha=0.5, label='x', log=True)\n",
    "plt.xlabel(\"Degree\")\n",
    "#plt.ylabel(\"Count (log scale)\")\n",
    "plt.savefig(\"H1_hists.png\")\n",
    "plt.show()"
   ],
   "metadata": {
    "collapsed": false,
    "pycharm": {
     "name": "#%%\n",
     "is_executing": false
    }
   }
  },
  {
   "cell_type": "code",
   "execution_count": 47,
   "outputs": [
    {
     "data": {
      "text/plain": "Text(0, 0.5, 'Count (log scale)')"
     },
     "metadata": {},
     "output_type": "execute_result",
     "execution_count": 47
    },
    {
     "data": {
      "text/plain": "<Figure size 432x288 with 1 Axes>",
      "image/png": "[encoded data removed]"
     },
     "metadata": {
      "needs_background": "light"
     },
     "output_type": "display_data"
    }
   ],
   "source": [
    "true_degree = convert_degree(results.loc[61][\"true_degree\"]) \n",
    "deg = [x[1] for x in true_degree]\n",
    "plt.hist([x for x in deg], alpha=0.5, label='x', density=True, log =True)\n",
    "true_degree = convert_degree(results.loc[61][\"degrees\"]) \n",
    "deg = [x[1] for x in true_degree]\n",
    "plt.hist([x for x in deg], alpha=0.5, label='y', density=True, log =True)\n",
    "plt.xlabel(\"Degree\")\n",
    "plt.ylabel(\"Count (log scale)\")\n",
    "#plt.savefig(\"BA_model_h1.png\")"
   ],
   "metadata": {
    "collapsed": false,
    "pycharm": {
     "name": "#%%\n",
     "is_executing": false
    }
   }
  },
  {
   "cell_type": "code",
   "execution_count": 24,
   "outputs": [
    {
     "data": {
      "text/plain": "2.0"
     },
     "metadata": {},
     "output_type": "execute_result",
     "execution_count": 24
    }
   ],
   "source": [
    "results.loc[61][\"V\"]"
   ],
   "metadata": {
    "collapsed": false,
    "pycharm": {
     "name": "#%%\n",
     "is_executing": false
    }
   }
  },
  {
   "cell_type": "code",
   "execution_count": 31,
   "outputs": [],
   "source": [
    "list2_results = results[(results[\"alg\"]==\"list\") & (results[\"V\"]==2)]\n",
    "list1_results = results[(results[\"alg\"]==\"list\") & (results[\"V\"]==1)]\n",
    "rcmh_results = results[results[\"alg\"]==\"rcmh\"]\n",
    "gmd_results = results[results[\"alg\"]==\"gmd\"]"
   ],
   "metadata": {
    "collapsed": false,
    "pycharm": {
     "name": "#%%\n",
     "is_executing": false
    }
   }
  },
  {
   "cell_type": "code",
   "execution_count": 7,
   "outputs": [
    {
     "data": {
      "text/plain": "[<matplotlib.lines.Line2D at 0x7f97b40d4b50>]"
     },
     "metadata": {},
     "output_type": "execute_result",
     "execution_count": 7
    },
    {
     "data": {
      "text/plain": "<Figure size 432x288 with 1 Axes>",
      "image/png": "[encoded data removed]"
     },
     "metadata": {
      "needs_background": "light"
     },
     "output_type": "display_data"
    }
   ],
   "source": [
    "# They are all fairly exact but list algorithm seems to have higher variablity \n",
    "colors = {'rcmh':'red', 'gmd':'blue', 'list':'green'}\n",
    "plt.scatter(results[\"true_clust\"], results[\"avg_clustering\"], c = results[\"alg\"].apply(lambda x: colors[x]), alpha=0.1)\n",
    "plt.plot(results[\"true_clust\"],results[\"true_clust\"])"
   ],
   "metadata": {
    "collapsed": false,
    "pycharm": {
     "name": "#%%\n",
     "is_executing": false
    }
   }
  },
  {
   "cell_type": "code",
   "execution_count": 38,
   "outputs": [
    {
     "data": {
      "text/plain": "<Figure size 432x288 with 1 Axes>",
      "image/png": "[encoded data removed]"
     },
     "metadata": {
      "needs_background": "light"
     },
     "output_type": "display_data"
    }
   ],
   "source": [
    "# variability much better seen for green\n",
    "#plt.scatter(results[\"true_clust\"], results[\"avg_clustering\"]-results[\"true_clust\"], c = results[\"alg\"].apply(lambda x: colors[x]), alpha=0.1)\n",
    "plt.scatter(list2_results[\"true_clust\"], list2_results[\"avg_clustering\"]-list2_results[\"true_clust\"], \n",
    "            c = \"green\", alpha=0.2,label=\"List2\")\n",
    "plt.scatter(rcmh_results[\"true_clust\"], rcmh_results[\"avg_clustering\"]-rcmh_results[\"true_clust\"], \n",
    "            c = \"red\", alpha=0.2, label=\"RCMH\")\n",
    "plt.scatter(gmd_results[\"true_clust\"], gmd_results[\"avg_clustering\"]-gmd_results[\"true_clust\"], \n",
    "            c = \"blue\", alpha=0.2, label =\"GMD\")\n",
    "plt.scatter(list1_results[\"true_clust\"], list1_results[\"avg_clustering\"]-list1_results[\"true_clust\"], \n",
    "            c = \"black\", alpha=0.2,label=\"List1\")\n",
    "\n",
    "\n",
    "plt.legend(loc=\"lower center\")\n",
    "plt.plot(results[\"true_clust\"],results[\"true_clust\"]-results[\"true_clust\"])\n",
    "plt.ylabel(\"Difference of true mean clustering\")\n",
    "plt.xlabel(\"True mean clustering\")\n",
    "plt.savefig(\"diff_true_mean_BA.png\")"
   ],
   "metadata": {
    "collapsed": false,
    "pycharm": {
     "name": "#%%\n",
     "is_executing": false
    }
   }
  },
  {
   "cell_type": "code",
   "execution_count": 22,
   "outputs": [
    {
     "data": {
      "text/plain": "75"
     },
     "metadata": {},
     "output_type": "execute_result",
     "execution_count": 22
    }
   ],
   "source": [
    "results.shape[0]"
   ],
   "metadata": {
    "collapsed": false,
    "pycharm": {
     "name": "#%%\n",
     "is_executing": false
    }
   }
  },
  {
   "cell_type": "code",
   "execution_count": 8,
   "outputs": [],
   "source": [
    "def obtain_ks_results(results):\n",
    "    ks_results = pd.DataFrame(columns=[\"m\",\"alg\",\"statistics\",\"p-value\", \"V\"])\n",
    "    \n",
    "    for i in range(0,results.shape[0]):\n",
    "        print(i)\n",
    "        g = nx.barabasi_albert_graph(5000,results.loc[i][\"m\"], seed = 0)\n",
    "        true_degree = convert_degree(results.loc[i][\"true_degree\"]) \n",
    "        true_degree = [x[1] for x in true_degree]\n",
    "        sampled_degree = convert_degree(results.loc[i][\"degrees\"]) \n",
    "        if(results.loc[i][\"alg\"]==\"list\"):\n",
    "            sampled_degree = [nx.degree(g,x[0]) for x in sampled_degree]\n",
    "        else:\n",
    "            sampled_degree = [x[1] for x in sampled_degree]\n",
    "            \n",
    "        ks_test = ks_2samp(true_degree,sampled_degree)\n",
    "        ks_results = ks_results.append({\"m\":results.loc[i][\"m\"],\"alg\":results.loc[i][\"alg\"],\n",
    "                           \"statistics\":ks_test[0],\"p-value\":ks_test[1], \"V\":results.loc[i][\"V\"]}, ignore_index=True)    \n",
    "    return(ks_results)"
   ],
   "metadata": {
    "collapsed": false,
    "pycharm": {
     "name": "#%%\n",
     "is_executing": false
    }
   }
  },
  {
   "cell_type": "code",
   "execution_count": 9,
   "outputs": [
    {
     "data": {
      "text/plain": "1"
     },
     "metadata": {},
     "output_type": "execute_result",
     "execution_count": 9
    }
   ],
   "source": [
    "results.loc[1][\"m\"]"
   ],
   "metadata": {
    "collapsed": false,
    "pycharm": {
     "name": "#%%\n",
     "is_executing": false
    }
   }
  },
  {
   "cell_type": "code",
   "execution_count": 10,
   "outputs": [
    {
     "name": "stdout",
     "text": [
      "0\n",
      "1\n",
      "2\n",
      "3\n",
      "4\n",
      "5\n",
      "6\n",
      "7\n",
      "8\n",
      "9\n",
      "10\n",
      "11\n",
      "12\n",
      "13\n",
      "14\n",
      "15\n",
      "16\n",
      "17\n",
      "18\n",
      "19\n",
      "20\n",
      "21\n",
      "22\n",
      "23\n",
      "24\n",
      "25\n",
      "26\n",
      "27\n",
      "28\n",
      "29\n",
      "30\n",
      "31\n",
      "32\n",
      "33\n",
      "34\n",
      "35\n",
      "36\n",
      "37\n",
      "38\n",
      "39\n",
      "40\n",
      "41\n",
      "42\n",
      "43\n",
      "44\n",
      "45\n",
      "46\n",
      "47\n",
      "48\n",
      "49\n",
      "50\n",
      "51\n",
      "52\n",
      "53\n",
      "54\n",
      "55\n",
      "56\n",
      "57\n",
      "58\n",
      "59\n",
      "60\n",
      "61\n",
      "62\n",
      "63\n",
      "64\n",
      "65\n",
      "66\n",
      "67\n",
      "68\n",
      "69\n",
      "70\n",
      "71\n",
      "72\n",
      "73\n",
      "74\n",
      "75\n",
      "76\n",
      "77\n",
      "78\n",
      "79\n",
      "80\n",
      "81\n",
      "82\n",
      "83\n",
      "84\n",
      "85\n",
      "86\n",
      "87\n",
      "88\n",
      "89\n",
      "90\n",
      "91\n",
      "92\n",
      "93\n",
      "94\n",
      "95\n",
      "96\n",
      "97\n",
      "98\n",
      "99\n",
      "   m   alg  statistics       p-value    V\n",
      "0  1  list    0.070998  1.828759e-02  1.0\n",
      "1  1  list    0.015219  9.998664e-01  2.0\n",
      "2  1   gmd    0.345000  2.034197e-47  NaN\n",
      "3  1  rcmh    0.335000  9.842887e-45  NaN\n",
      "4  1  list    0.082036  3.862011e-03  1.0\n"
     ],
     "output_type": "stream"
    }
   ],
   "source": [
    "#results = pd.read_csv(\"results/barabasi.csv\")\n",
    "#g = nx.gnp_random_graph(5000,results.loc[1][\"p\"], seed = 0)\n",
    "ks_results = obtain_ks_results(results)\n",
    "print(ks_results.head())"
   ],
   "metadata": {
    "collapsed": false,
    "pycharm": {
     "name": "#%%\n",
     "is_executing": false
    }
   }
  },
  {
   "cell_type": "code",
   "execution_count": 11,
   "outputs": [
    {
     "data": {
      "text/plain": "<Figure size 432x288 with 1 Axes>",
      "image/png": "[encoded data removed]"
     },
     "metadata": {
      "needs_background": "light"
     },
     "output_type": "display_data"
    }
   ],
   "source": [
    "plt.scatter(ks_results[(ks_results[\"alg\"]==\"list\") & (ks_results[\"V\"]==2)][\"m\"], \n",
    "            ks_results[(ks_results[\"alg\"]==\"list\") & (ks_results[\"V\"]==2)][\"statistics\"], \n",
    "            c = \"green\", alpha=0.2,label=\"List2\")\n",
    "plt.scatter(ks_results[(ks_results[\"alg\"]==\"list\") & (ks_results[\"V\"]==1)][\"m\"], \n",
    "            ks_results[(ks_results[\"alg\"]==\"list\") & (ks_results[\"V\"]==1)][\"statistics\"], \n",
    "            c = \"black\", alpha=0.2,label=\"List1\")\n",
    "plt.scatter(ks_results[ks_results[\"alg\"]==\"rcmh\"][\"m\"], ks_results[ks_results[\"alg\"]==\"rcmh\"][\"statistics\"], \n",
    "            c = \"red\", alpha=0.2, label=\"RCMH\")\n",
    "plt.scatter(ks_results[ks_results[\"alg\"]==\"gmd\"][\"m\"], ks_results[ks_results[\"alg\"]==\"gmd\"][\"statistics\"], \n",
    "            c = \"blue\", alpha=0.2, label =\"GMD\")\n",
    "plt.legend(loc=\"right\")\n",
    "plt.ylabel(\"KS Statistics\")\n",
    "plt.xlabel(\"m\")\n",
    "plt.title(\"Increasing edges per nodes introduce bias to list algorithm\")\n",
    "plt.savefig(\"KS.png\")"
   ],
   "metadata": {
    "collapsed": false,
    "pycharm": {
     "name": "#%%\n",
     "is_executing": false
    }
   }
  },
  {
   "cell_type": "code",
   "execution_count": 48,
   "outputs": [],
   "source": [
    "results_gnp = pd.read_csv(\"results/gnp.csv\")"
   ],
   "metadata": {
    "collapsed": false,
    "pycharm": {
     "name": "#%%\n",
     "is_executing": false
    }
   }
  },
  {
   "cell_type": "code",
   "execution_count": 70,
   "outputs": [
    {
     "data": {
      "text/plain": "0.01"
     },
     "metadata": {},
     "output_type": "execute_result",
     "execution_count": 70
    }
   ],
   "source": [
    "results_gnp.loc[1][\"p\"]"
   ],
   "metadata": {
    "collapsed": false,
    "pycharm": {
     "name": "#%%\n",
     "is_executing": false
    }
   }
  },
  {
   "cell_type": "code",
   "execution_count": 71,
   "outputs": [
    {
     "data": {
      "text/plain": "<Figure size 432x288 with 1 Axes>",
      "image/png": "[encoded data removed]"
     },
     "metadata": {
      "needs_background": "light"
     },
     "output_type": "display_data"
    }
   ],
   "source": [],
   "metadata": {
    "collapsed": false,
    "pycharm": {
     "name": "#%%\n",
     "is_executing": false
    }
   }
  },
  {
   "cell_type": "code",
   "execution_count": null,
   "outputs": [],
   "source": [
    "g = nx.gnp_random_graph(5000,results_gnp.loc[1][\"p\"], seed = 0)"
   ],
   "metadata": {
    "collapsed": false,
    "pycharm": {
     "name": "#%%\n"
    }
   }
  },
  {
   "cell_type": "code",
   "execution_count": 76,
   "outputs": [
    {
     "name": "stdout",
     "text": [
      "[57, 54, 43, 54, 61, 55, 47, 39, 69, 62, 43, 45, 59, 51, 51, 44, 53, 44, 51, 63, 51, 48, 45, 48, 42, 50, 47, 51, 48, 32, 54, 49, 44, 41, 53, 49, 52, 50, 55, 55, 52, 51, 42, 51, 43, 49, 49, 56, 61, 69, 44, 53, 52, 40, 52, 55, 42, 51, 60, 52, 49, 50, 45, 48, 54, 47, 54, 51, 57, 53, 52, 46, 45, 59, 62, 63, 48, 59, 37, 52, 61, 43, 62, 47, 49, 36, 46, 53, 47, 57, 48, 50, 56, 39, 42, 64, 44, 44, 53, 61, 51, 57, 46, 43, 41, 50, 43, 48, 56, 50, 61, 42, 41, 54, 41, 59, 47, 51, 45, 46, 44, 58, 46, 45, 56, 57, 60, 50, 52, 48, 49, 49, 51, 56, 53, 49, 45, 49, 49, 48, 64, 48, 46, 53, 48, 50, 47, 42, 51, 45, 41, 51, 56, 49, 58, 53, 42, 61, 55, 42, 53, 57, 52, 56, 51, 63, 45, 45, 48, 56, 60, 59, 42, 49, 47, 45, 47, 50, 43, 51, 48, 50, 44, 50, 60, 62, 45, 48, 43, 53, 53, 38, 46, 49, 55, 48, 56, 58, 49, 40, 49, 45, 37, 52, 57, 48, 62, 43, 47, 48, 37, 55, 52, 44, 46, 49, 39, 50, 52, 52, 45, 51, 49, 47, 58, 38, 48, 49, 48, 57, 46, 63, 62, 61, 59, 58, 45, 56, 58, 51, 41, 39, 52, 36, 54, 53, 57, 51, 46, 49, 49, 58, 57, 45, 66, 61, 55, 52, 59, 42, 51, 54, 53, 41, 51, 62, 55, 51, 42, 36, 50, 62, 39, 67, 61, 40, 64, 48, 54, 54, 47, 57, 31, 50, 53, 58, 53, 45, 50, 50, 50, 49, 33, 48, 50, 50, 50, 53, 40, 44, 44, 49, 47, 48, 52, 61, 58, 64, 48, 53, 56, 48, 59, 47, 50, 50, 41, 59, 50, 49, 51, 56, 49, 54, 49, 58, 51, 48, 54, 53, 40, 48, 49, 36, 44, 41, 67, 55, 46, 44, 56, 54, 49, 47, 46, 39, 48, 56, 49, 51, 44, 49, 37, 46, 44, 51, 34, 57, 56, 56, 58, 54, 45, 64, 44, 60, 47, 66, 42, 66, 58, 46, 57, 34, 42, 53, 54, 49, 48, 42, 61, 46, 49, 49, 46, 52, 49, 50, 52, 40, 45, 50, 51, 45, 64, 51, 49, 45, 62, 47, 57, 63, 48, 53, 38, 64, 50, 55, 42, 44, 41, 41, 49, 46, 43, 54, 61, 53, 54, 55, 49, 48, 47, 37, 38, 62, 47, 54, 44, 54, 48, 42, 64, 45, 52, 53, 59, 56, 46, 50, 46, 39, 49, 59, 54, 42, 30, 52, 53, 49, 50, 58, 56, 45, 48, 47, 42, 50, 35, 53, 42, 55, 46, 45, 46, 39, 52, 50, 34, 42, 52, 59, 58, 49, 56, 39, 62, 61, 51, 51, 55, 53, 50, 40, 41, 57, 40, 48, 46, 50, 50, 38, 59, 45, 58, 43, 49, 55, 60, 61, 62, 40, 44, 39, 45, 40]\n"
     ],
     "output_type": "stream"
    }
   ],
   "source": [
    "true_degree = convert_degree(results_gnp.loc[1][\"degrees\"]) \n",
    "node = [nx.degree(g,x[0]) for x in true_degree]\n",
    "print(node)"
   ],
   "metadata": {
    "collapsed": false,
    "pycharm": {
     "name": "#%%\n",
     "is_executing": false
    }
   }
  },
  {
   "cell_type": "code",
   "execution_count": 77,
   "outputs": [
    {
     "data": {
      "text/plain": "Text(0, 0.5, 'Count (log scale)')"
     },
     "metadata": {},
     "output_type": "execute_result",
     "execution_count": 77
    },
    {
     "data": {
      "text/plain": "<Figure size 432x288 with 1 Axes>",
      "image/png": "[encoded data removed]"
     },
     "metadata": {
      "needs_background": "light"
     },
     "output_type": "display_data"
    }
   ],
   "source": [
    "true_degree = convert_degree(results_gnp.loc[1][\"true_degree\"]) \n",
    "deg = [x[1] for x in true_degree]\n",
    "plt.hist([x for x in deg], alpha=0.5, label='x', density=True, log =True)\n",
    "plt.hist(node, alpha=0.5, label='y', density=True, log =True)\n",
    "plt.xlabel(\"Degree\")\n",
    "plt.ylabel(\"Count (log scale)\")\n"
   ],
   "metadata": {
    "collapsed": false,
    "pycharm": {
     "name": "#%%\n",
     "is_executing": false
    }
   }
  },
  {
   "cell_type": "code",
   "execution_count": null,
   "outputs": [],
   "source": [
    "# next steps: change alpha and sample size and measure avg clustering and degree distribution\n",
    "# next steps: change C and sample size and measure avg clustering and degree distribution\n",
    "# next steps: measure the time the different algorithms take to complete with change in degree distribution and alpha \n",
    "# (could be that it gets rejected a lot and takes a long time to finish)\n",
    "# next steps: quantify variability of list algorithm\n"
   ],
   "metadata": {
    "collapsed": false,
    "pycharm": {
     "name": "#%%\n"
    }
   }
  }
 ],
 "metadata": {
  "kernelspec": {
   "display_name": "Python 3",
   "language": "python",
   "name": "python3"
  },
  "language_info": {
   "codemirror_mode": {
    "name": "ipython",
    "version": 2
   },
   "file_extension": ".py",
   "mimetype": "text/x-python",
   "name": "python",
   "nbconvert_exporter": "python",
   "pygments_lexer": "ipython2",
   "version": "2.7.6"
  },
  "pycharm": {
   "stem_cell": {
    "cell_type": "raw",
    "source": [],
    "metadata": {
     "collapsed": false
    }
   }
  }
 },
 "nbformat": 4,
 "nbformat_minor": 0
}