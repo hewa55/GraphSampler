{
 "cells": [
  {
   "cell_type": "code",
   "execution_count": 274,
   "metadata": {
    "collapsed": true,
    "pycharm": {
     "is_executing": false
    }
   },
   "outputs": [],
   "source": [
    "from GraphSampler import GraphSample\n",
    "import  collections\n",
    "from random import choice\n",
    "import math\n",
    "from collections import Counter\n",
    "import numpy as np\n",
    "import networkx as nx\n",
    "import matplotlib.pyplot as plt"
   ]
  },
  {
   "cell_type": "code",
   "execution_count": 257,
   "outputs": [],
   "source": [
    "def degree_hist(g):\n",
    "    degree_sequence = sorted([d for n, d in g.degree()], reverse=True)  # degree sequence\n",
    "    # print \"Degree sequence\", degree_sequence\n",
    "    degreeCount = collections.Counter(degree_sequence)\n",
    "    # returns degree, count\n",
    "    return zip(*degreeCount.items())"
   ],
   "metadata": {
    "collapsed": false,
    "pycharm": {
     "name": "#%%\n",
     "is_executing": false
    }
   }
  },
  {
   "cell_type": "code",
   "execution_count": 261,
   "outputs": [],
   "source": [
    "g = nx.powerlaw_cluster_graph(200000,10,0.1)"
   ],
   "metadata": {
    "collapsed": false,
    "pycharm": {
     "name": "#%%\n",
     "is_executing": false
    }
   }
  },
  {
   "cell_type": "code",
   "execution_count": 266,
   "outputs": [],
   "source": [
    "nodes, edges = GraphSample().list_sampling(g,target_size=0.0001)\n",
    "g_sample = nx.Graph()\n",
    "g_sample.add_nodes_from(nodes)\n",
    "g_sample.add_edges_from(edges)"
   ],
   "metadata": {
    "collapsed": false,
    "pycharm": {
     "name": "#%%\n",
     "is_executing": false
    }
   }
  },
  {
   "cell_type": "code",
   "execution_count": 264,
   "outputs": [],
   "source": [
    "nodes_gmd, edges_gmd, eps = GraphSample().gmd(g,target_size=0.1, C= 71)"
   ],
   "metadata": {
    "collapsed": false,
    "pycharm": {
     "name": "#%%\n",
     "is_executing": false
    }
   }
  },
  {
   "cell_type": "code",
   "execution_count": 265,
   "outputs": [],
   "source": [
    "nodes_rcmh, edges_rcmh = GraphSample().rcmhrw(g,target_size = 0.1, alpha= 0.1)"
   ],
   "metadata": {
    "collapsed": false,
    "pycharm": {
     "name": "#%%\n",
     "is_executing": false
    }
   }
  },
  {
   "cell_type": "code",
   "execution_count": 271,
   "outputs": [
    {
     "name": "stdout",
     "text": [
      "0.024340286350332422\n",
      "0.019260648934547\n",
      "0.017362474086165435\n"
     ],
     "output_type": "stream"
    }
   ],
   "source": [
    "sampler = GraphSample()\n",
    "c = nx.algorithms.average_clustering(g_sample)\n",
    "print(c)\n",
    "c1 = sampler.avg_clustering_gmd(g, nodes_gmd, eps, 0)\n",
    "print(c1)\n",
    "c2 = sampler.avg_clustering_rcmh(g,nodes_rcmh,0.1)\n",
    "print(c2)"
   ],
   "metadata": {
    "collapsed": false,
    "pycharm": {
     "name": "#%%\n",
     "is_executing": false
    }
   }
  },
  {
   "cell_type": "code",
   "execution_count": 268,
   "outputs": [],
   "source": [
    "rcmh_subgraph = g.subgraph(nodes_rcmh)"
   ],
   "metadata": {
    "collapsed": false,
    "pycharm": {
     "name": "#%%\n",
     "is_executing": false
    }
   }
  },
  {
   "cell_type": "code",
   "execution_count": 276,
   "outputs": [],
   "source": [
    "\n",
    "\n"
   ],
   "metadata": {
    "collapsed": false,
    "pycharm": {
     "name": "#%%\n",
     "is_executing": false
    }
   }
  }
 ],
 "metadata": {
  "kernelspec": {
   "display_name": "Python 3",
   "language": "python",
   "name": "python3"
  },
  "language_info": {
   "codemirror_mode": {
    "name": "ipython",
    "version": 2
   },
   "file_extension": ".py",
   "mimetype": "text/x-python",
   "name": "python",
   "nbconvert_exporter": "python",
   "pygments_lexer": "ipython2",
   "version": "2.7.6"
  },
  "pycharm": {
   "stem_cell": {
    "cell_type": "raw",
    "source": [],
    "metadata": {
     "collapsed": false
    }
   }
  }
 },
 "nbformat": 4,
 "nbformat_minor": 0
}