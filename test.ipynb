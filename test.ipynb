{
 "cells": [
  {
   "cell_type": "code",
   "execution_count": 1,
   "metadata": {
    "collapsed": true,
    "pycharm": {
     "is_executing": false
    }
   },
   "outputs": [],
   "source": [
    "from GraphSampler import GraphSample\n",
    "import  collections\n",
    "from random import choice\n",
    "import math\n",
    "from collections import Counter\n",
    "import numpy as np\n",
    "import networkx as nx\n",
    "import matplotlib.pyplot as plt\n",
    "import pandas as pd\n",
    "import time"
   ]
  },
  {
   "cell_type": "code",
   "execution_count": 131,
   "outputs": [
    {
     "data": {
      "text/plain": "<module 'GraphSampler' from '/home/kingscollege/PycharmProjects/GraphSampler/GraphSampler.py'>"
     },
     "metadata": {},
     "output_type": "execute_result",
     "execution_count": 131
    }
   ],
   "source": [
    "import importlib\n",
    "import GraphSampler\n",
    "importlib.reload(GraphSampler)"
   ],
   "metadata": {
    "collapsed": false,
    "pycharm": {
     "name": "#%%\n",
     "is_executing": false
    }
   }
  },
  {
   "cell_type": "code",
   "execution_count": 257,
   "outputs": [],
   "source": [
    "def degree_hist(g):\n",
    "    degree_sequence = sorted([d for n, d in g.degree()], reverse=True)  # degree sequence\n",
    "    # print \"Degree sequence\", degree_sequence\n",
    "    degreeCount = collections.Counter(degree_sequence)\n",
    "    # returns degree, count\n",
    "    return zip(*degreeCount.items())"
   ],
   "metadata": {
    "collapsed": false,
    "pycharm": {
     "name": "#%%\n",
     "is_executing": false
    }
   }
  },
  {
   "cell_type": "code",
   "execution_count": 261,
   "outputs": [],
   "source": [
    "g = nx.powerlaw_cluster_graph(200000,10,0.1)"
   ],
   "metadata": {
    "collapsed": false,
    "pycharm": {
     "name": "#%%\n",
     "is_executing": false
    }
   }
  },
  {
   "cell_type": "code",
   "execution_count": 266,
   "outputs": [],
   "source": [
    "nodes, edges = GraphSample().list_sampling(g,target_size=0.0001)\n",
    "g_sample = nx.Graph()\n",
    "g_sample.add_nodes_from(nodes)\n",
    "g_sample.add_edges_from(edges)"
   ],
   "metadata": {
    "collapsed": false,
    "pycharm": {
     "name": "#%%\n",
     "is_executing": false
    }
   }
  },
  {
   "cell_type": "code",
   "execution_count": 264,
   "outputs": [],
   "source": [
    "nodes_gmd, edges_gmd, eps = GraphSample().gmd(g,target_size=0.1, C= 71)"
   ],
   "metadata": {
    "collapsed": false,
    "pycharm": {
     "name": "#%%\n",
     "is_executing": false
    }
   }
  },
  {
   "cell_type": "code",
   "execution_count": 265,
   "outputs": [],
   "source": [
    "nodes_rcmh, edges_rcmh = GraphSample().rcmhrw(g,target_size = 0.1, alpha= 0.1)"
   ],
   "metadata": {
    "collapsed": false,
    "pycharm": {
     "name": "#%%\n",
     "is_executing": false
    }
   }
  },
  {
   "cell_type": "code",
   "execution_count": 271,
   "outputs": [
    {
     "name": "stdout",
     "text": [
      "0.024340286350332422\n",
      "0.019260648934547\n",
      "0.017362474086165435\n"
     ],
     "output_type": "stream"
    }
   ],
   "source": [
    "sampler = GraphSample()\n",
    "c = nx.algorithms.average_clustering(g_sample)\n",
    "print(c)\n",
    "c1 = sampler.avg_clustering_gmd(g, nodes_gmd, eps, 0)\n",
    "print(c1)\n",
    "c2 = sampler.avg_clustering_rcmh(g,nodes_rcmh,0.1)\n",
    "print(c2)"
   ],
   "metadata": {
    "collapsed": false,
    "pycharm": {
     "name": "#%%\n",
     "is_executing": false
    }
   }
  },
  {
   "cell_type": "code",
   "execution_count": 268,
   "outputs": [],
   "source": [
    "rcmh_subgraph = g.subgraph(nodes_rcmh)"
   ],
   "metadata": {
    "collapsed": false,
    "pycharm": {
     "name": "#%%\n",
     "is_executing": false
    }
   }
  },
  {
   "cell_type": "code",
   "execution_count": 2,
   "outputs": [],
   "source": [
    "web = nx.read_edgelist(\"data/web-BerkStan.txt\")"
   ],
   "metadata": {
    "collapsed": false,
    "pycharm": {
     "name": "#%%\n",
     "is_executing": false
    }
   }
  },
  {
   "cell_type": "code",
   "execution_count": 3,
   "outputs": [
    {
     "name": "stdout",
     "text": [
      "685230\n",
      "6649470\n"
     ],
     "output_type": "stream"
    }
   ],
   "source": [
    "print(len(web.nodes))\n",
    "# should be 685230\n",
    "print(len(web.edges))\n",
    "# should be 7600595"
   ],
   "metadata": {
    "collapsed": false,
    "pycharm": {
     "name": "#%%\n",
     "is_executing": false
    }
   }
  },
  {
   "cell_type": "code",
   "execution_count": 34,
   "outputs": [
    {
     "name": "stdout",
     "text": [
      "Empty DataFrame\n",
      "Columns: [percentage, n, avg_clustering, degrees, run, time_sample, time_clust]\n",
      "Index: []\n"
     ],
     "output_type": "stream"
    }
   ],
   "source": [
    "experiment_result = pd.DataFrame(columns=[\"percentage\",\"n\",\"avg_clustering\",\"degrees\",\"run\",\n",
    "                                          \"time_sample\",\"time_clust\"])\n",
    "print(experiment_result)"
   ],
   "metadata": {
    "collapsed": false,
    "pycharm": {
     "name": "#%%\n",
     "is_executing": false
    }
   }
  },
  {
   "cell_type": "code",
   "execution_count": 103,
   "outputs": [
    {
     "name": "stdout",
     "text": [
      "n 1\n",
      "run 0\n",
      "n 2\n",
      "run 0\n",
      "n 3\n",
      "run 0\n",
      "n 4\n",
      "run 0\n",
      "n 5\n",
      "run 0\n"
     ],
     "output_type": "stream"
    }
   ],
   "source": [
    "experiment_result = pd.DataFrame(columns=[\"percentage\",\"n\",\"avg_clustering\",\"degrees\",\"run\",\n",
    "                                          \"time_sample\",\"time_clust\"])\n",
    "sampler = GraphSample()\n",
    "for n in range(1,6,1):\n",
    "    print(\"n %s\" % n)\n",
    "    for run in range(0,1):\n",
    "        print(\"run %s\" % run)\n",
    "        \n",
    "        time_sample_start = time.time()\n",
    "        nodes_gmd, edges_gmd, eps = GraphSample().gmd(web,target_size=n/1000, C= 71)\n",
    "        time_sample = time.time() - time_sample_start\n",
    "        time_sample = float('%.2f' % time_sample)\n",
    "        \n",
    "        nodes = len(nodes_gmd)\n",
    "        \n",
    "        time_clust_start = time.time()\n",
    "        clustering = sampler.avg_clustering_gmd(web,nodes_gmd,eps,71)\n",
    "        time_clust = time.time() - time_clust_start\n",
    "        time_clust = float('%.2f' % time_clust)\n",
    "        \n",
    "        degrees = web.degree(nbunch=nodes_gmd)\n",
    "        experiment_result = experiment_result.append({\"percentage\":n,\"n\":nodes,\"avg_clustering\":clustering,\n",
    "                                  \"degrees\":degrees,\"run\":run,\"C\":71,\n",
    "                                  \"time_sample\":time_sample,\"time_clust\":time_clust}, ignore_index=True)"
   ],
   "metadata": {
    "collapsed": false,
    "pycharm": {
     "name": "#%%\n",
     "is_executing": false
    }
   }
  },
  {
   "cell_type": "code",
   "execution_count": 101,
   "outputs": [
    {
     "name": "stdout",
     "text": [
      "  percentage     n avg_clustering  \\\n",
      "0          1   686              0   \n",
      "1          2  1371              0   \n",
      "2          3  2056              0   \n",
      "3          4  2741              0   \n",
      "4          1   686              0   \n",
      "\n",
      "                                             degrees run  time_sample  \\\n",
      "0  ((477252, 5), (481959, 8510), (483323, 5), (48...   0         0.88   \n",
      "1  ((52180, 39), (56289, 11), (52170, 1420), (559...   0         1.97   \n",
      "2  ((514130, 12), (639947, 1058), (640032, 12), (...   0         1.32   \n",
      "3  ((224084, 9), (224439, 8), (223967, 8), (22420...   0         2.97   \n",
      "4  ((159963, 14), (159987, 45), (160024, 9), (160...   0         1.67   \n",
      "\n",
      "  time_clust     C  \n",
      "0          0  71.0  \n",
      "1          0  71.0  \n",
      "2          0  71.0  \n",
      "3          0  71.0  \n",
      "4          0  71.0  \n"
     ],
     "output_type": "stream"
    }
   ],
   "source": [
    "print(experiment_result.head())"
   ],
   "metadata": {
    "collapsed": false,
    "pycharm": {
     "name": "#%%\n",
     "is_executing": false
    }
   }
  },
  {
   "cell_type": "code",
   "execution_count": 109,
   "outputs": [
    {
     "data": {
      "text/plain": "<matplotlib.collections.PathCollection at 0x7f70cea4f550>"
     },
     "metadata": {},
     "output_type": "execute_result",
     "execution_count": 109
    },
    {
     "data": {
      "text/plain": "<Figure size 432x288 with 1 Axes>",
      "image/png": "[encoded data removed]"
     },
     "metadata": {
      "needs_background": "light"
     },
     "output_type": "display_data"
    }
   ],
   "source": [
    "%matplotlib inline\n",
    "plt.scatter(experiment_result[\"n\"],abs(0.59-experiment_result[\"avg_clustering\"]))"
   ],
   "metadata": {
    "collapsed": false,
    "pycharm": {
     "name": "#%%\n",
     "is_executing": false
    }
   }
  },
  {
   "cell_type": "code",
   "execution_count": null,
   "outputs": [],
   "source": [
    "g = nx.powerlaw_cluster_graph(200,10,0.1)\n",
    "nodes, edges = GraphSample().list_sampling(g,target_size=0.0001)\n",
    "g_sample = nx.Graph()\n",
    "g_sample.add_nodes_from(nodes)\n",
    "g_sample.add_edges_from(edges)"
   ],
   "metadata": {
    "collapsed": false,
    "pycharm": {
     "name": "#%%\n"
    }
   }
  },
  {
   "cell_type": "code",
   "execution_count": 139,
   "outputs": [
    {
     "name": "stdout",
     "text": [
      "1\n",
      "26\n",
      "75\n",
      "250\n",
      "500\n",
      "done\n"
     ],
     "output_type": "stream"
    }
   ],
   "source": [
    "sampler = GraphSample()\n",
    "experiment_result = pd.DataFrame(columns=[\"percentage\",\"avg_clustering\",\"degrees\",\n",
    "                                          \"true_clust\",\"alg\",\"C\",\"alpha\",\"m\",\"true_degree\"])\n",
    "for m in [1,26,75,250,500]:\n",
    "    print(m)\n",
    "    g = nx.barabasi_albert_graph(5000,m, seed = 0)\n",
    "    true_clust = nx.average_clustering(g)\n",
    "    for run in range(5):\n",
    "\n",
    "        \n",
    "        nodes, edges = GraphSample().list_sampling(g,target_size=0.1)\n",
    "        g_sample = nx.Graph()\n",
    "        g_sample.add_nodes_from(nodes)\n",
    "        g_sample.add_edges_from(edges)\n",
    "        list_clust = nx.average_clustering(g_sample)\n",
    "        experiment_result = experiment_result.append({\"percentage\":0.1,\"avg_clustering\":list_clust,\n",
    "                                  \"degrees\":nx.degree(g_sample),\"true_clust\":true_clust,\n",
    "                                  \"alg\":\"list\",\"m\":m,\"true_degree\":nx.degree(g)},ignore_index=True)\n",
    "        nodes_gmd, edges_gmd, eps = GraphSample().gmd(g,target_size=0.1, C= 50)\n",
    "        gmd_clust = sampler.avg_clustering_gmd(g,nodes_gmd,eps,50)\n",
    "        experiment_result = experiment_result.append({\"percentage\":0.1,\"avg_clustering\":gmd_clust,\n",
    "                                  \"degrees\":nx.degree(g,nodes_gmd),\"true_clust\":true_clust,\n",
    "                                  \"alg\":\"gmd\", \"C\": 50,\"m\":m,\"true_degree\":nx.degree(g)},ignore_index=True)    \n",
    "        nodes_rcmh, edges_rcmh = GraphSample().rcmhrw(g,target_size = 0.1, alpha= 0.1)\n",
    "        rcmh_clust = sampler.avg_clustering_rcmh(g,nodes_rcmh,0.1)\n",
    "        experiment_result = experiment_result.append({\"percentage\":0.1,\"avg_clustering\":rcmh_clust,\n",
    "                                  \"degrees\":nx.degree(g,nodes_rcmh),\"true_clust\":true_clust,\n",
    "                                  \"alg\":\"rcmh\", \"alpha\": 0.1,\"m\":m,\"true_degree\":nx.degree(g)},ignore_index=True)    \n",
    "        \n",
    "print(\"done\")"
   ],
   "metadata": {
    "collapsed": false,
    "pycharm": {
     "name": "#%%\n",
     "is_executing": false
    }
   }
  },
  {
   "cell_type": "code",
   "execution_count": 140,
   "outputs": [
    {
     "data": {
      "text/plain": "<matplotlib.collections.PathCollection at 0x7f70a8ed8b90>"
     },
     "metadata": {},
     "output_type": "execute_result",
     "execution_count": 140
    },
    {
     "data": {
      "text/plain": "<Figure size 432x288 with 1 Axes>",
      "image/png": "[encoded data removed]"
     },
     "metadata": {
      "needs_background": "light"
     },
     "output_type": "display_data"
    }
   ],
   "source": [
    "plt.scatter(experiment_result[\"true_clust\"],experiment_result[\"avg_clustering\"])"
   ],
   "metadata": {
    "collapsed": false,
    "pycharm": {
     "name": "#%%\n",
     "is_executing": false
    }
   }
  },
  {
   "cell_type": "code",
   "execution_count": null,
   "outputs": [],
   "source": [
    "experiment_result.to_csv(\"results/barabasi.csv\")"
   ],
   "metadata": {
    "collapsed": false,
    "pycharm": {
     "name": "#%%\n"
    }
   }
  },
  {
   "cell_type": "code",
   "execution_count": 2,
   "outputs": [],
   "source": [
    "results = pd.read_csv(\"results/barabasi.csv\")"
   ],
   "metadata": {
    "collapsed": false,
    "pycharm": {
     "name": "#%%\n",
     "is_executing": false
    }
   }
  },
  {
   "cell_type": "code",
   "execution_count": 3,
   "outputs": [
    {
     "data": {
      "text/plain": "<matplotlib.collections.PathCollection at 0x7f4be872b550>"
     },
     "metadata": {},
     "output_type": "execute_result",
     "execution_count": 3
    },
    {
     "data": {
      "text/plain": "<Figure size 432x288 with 1 Axes>",
      "image/png": "[encoded data removed]"
     },
     "metadata": {
      "needs_background": "light"
     },
     "output_type": "display_data"
    }
   ],
   "source": [
    "plt.scatter(results[\"true_clust\"],results[\"avg_clustering\"])"
   ],
   "metadata": {
    "collapsed": false,
    "pycharm": {
     "name": "#%%\n",
     "is_executing": false
    }
   }
  },
  {
   "cell_type": "code",
   "execution_count": 25,
   "outputs": [
    {
     "data": {
      "text/plain": "(array([359.,  65.,  34.,   0.,  30.,   0.,   0.,   0.,   0.,  12.]),\n array([ 1. ,  5.4,  9.8, 14.2, 18.6, 23. , 27.4, 31.8, 36.2, 40.6, 45. ]),\n <a list of 10 Patch objects>)"
     },
     "metadata": {},
     "output_type": "execute_result",
     "execution_count": 25
    },
    {
     "data": {
      "text/plain": "<Figure size 432x288 with 1 Axes>",
      "image/png": "[encoded data removed]"
     },
     "metadata": {
      "needs_background": "light"
     },
     "output_type": "display_data"
    }
   ],
   "source": [
    "import seaborn as sns\n",
    "\n",
    "#plt.hist(y, bins, alpha=0.5, label='y')\n",
    "#pyplot.legend(loc='upper right')\n",
    "#pyplot.show()"
   ],
   "metadata": {
    "collapsed": false,
    "pycharm": {
     "name": "#%%\n",
     "is_executing": false
    }
   }
  },
  {
   "cell_type": "code",
   "execution_count": 9,
   "outputs": [
    {
     "name": "stdout",
     "text": [
      "['(']\n"
     ],
     "output_type": "stream"
    }
   ],
   "source": [
    "deg = [x for x in results.loc[5][\"degrees\"][1]]\n",
    "print(deg)"
   ],
   "metadata": {
    "collapsed": false,
    "pycharm": {
     "name": "#%%\n",
     "is_executing": false
    }
   }
  },
  {
   "cell_type": "code",
   "execution_count": 30,
   "outputs": [
    {
     "name": "stdout",
     "text": [
      "[(3456, 1), (2121, 3), (3456, 1), (2121, 3), (1159, 3), (266, 10), (2818, 1), (266, 10), (3204, 2), (4376, 1), (3204, 2), (266, 10), (3974, 1), (266, 10), (1771, 4), (4853, 1), (1771, 4), (266, 10), (123, 10), (4532, 1), (123, 10), (43, 19), (1686, 1), (43, 19), (651, 1), (43, 19), (4119, 1), (43, 19), (651, 1), (43, 19), (4369, 1), (43, 19), (4119, 1), (43, 19), (4798, 1), (43, 19), (4798, 1), (43, 19), (1686, 1), (43, 19), (3126, 1), (43, 19), (76, 9), (1431, 1), (76, 9), (4398, 1), (76, 9), (4398, 1), (76, 9), (511, 1), (76, 9), (1431, 1), (76, 9), (2234, 1), (76, 9), (511, 1), (76, 9), (4579, 1), (76, 9), (2234, 1), (76, 9), (2548, 3), (3560, 1), (2548, 3), (3606, 1), (2548, 3), (76, 9), (511, 1), (76, 9), (2234, 1), (76, 9), (1431, 1), (76, 9), (43, 19), (4170, 1), (43, 19), (2351, 2), (4560, 1), (2351, 2), (4560, 1), (2351, 2), (4560, 1), (2351, 2), (4560, 1), (2351, 2), (43, 19), (2137, 1), (43, 19), (4369, 1), (43, 19), (4170, 1), (43, 19), (432, 10), (2765, 1), (432, 10), (948, 3), (3189, 1), (948, 3), (3189, 1), (948, 3), (1248, 1), (948, 3), (432, 10), (765, 1), (432, 10), (2692, 1), (432, 10), (2765, 1), (432, 10), (3467, 1), (432, 10), (825, 6), (432, 10), (825, 6), (4305, 1), (825, 6), (432, 10), (4415, 1), (432, 10), (948, 3), (432, 10), (765, 1), (432, 10), (2765, 1), (432, 10), (3749, 1), (432, 10), (2765, 1), (432, 10), (948, 3), (432, 10), (2765, 1), (432, 10), (948, 3), (3189, 1), (948, 3), (432, 10), (4415, 1), (432, 10), (765, 1), (432, 10), (2692, 1), (432, 10), (4415, 1), (432, 10), (825, 6), (3243, 1), (825, 6), (3243, 1), (825, 6), (2481, 1), (825, 6), (3243, 1), (825, 6), (3243, 1), (825, 6), (2481, 1), (825, 6), (3243, 1), (825, 6), (2481, 1), (825, 6), (2481, 1), (825, 6), (3164, 2), (825, 6), (3243, 1), (825, 6), (4305, 1), (825, 6), (2481, 1), (825, 6), (2455, 2), (825, 6), (3164, 2), (825, 6), (2481, 1), (825, 6), (3243, 1), (825, 6), (3243, 1), (825, 6), (3243, 1), (825, 6), (2455, 2), (825, 6), (3164, 2), (3913, 2), (3164, 2), (825, 6), (4305, 1), (825, 6), (3243, 1), (825, 6), (3243, 1), (825, 6), (432, 10), (3467, 1), (432, 10), (948, 3), (1248, 1), (948, 3), (3189, 1), (948, 3), (432, 10), (2765, 1), (432, 10), (948, 3), (3189, 1), (948, 3), (3189, 1), (948, 3), (3189, 1), (948, 3), (1248, 1), (948, 3), (3189, 1), (948, 3), (3189, 1), (948, 3), (1248, 1), (948, 3), (3189, 1), (948, 3), (432, 10), (43, 19), (3126, 1), (43, 19), (3126, 1), (43, 19), (651, 1), (43, 19), (1796, 3), (1801, 1), (1796, 3), (43, 19), (4369, 1), (43, 19), (1796, 3), (1801, 1), (1796, 3), (43, 19), (76, 9), (43, 19), (1845, 2), (2607, 4), (4734, 1), (2607, 4), (1845, 2), (43, 19), (651, 1), (43, 19), (1845, 2), (2607, 4), (2857, 1), (2607, 4), (2857, 1), (2607, 4), (4734, 1), (2607, 4), (1845, 2), (43, 19), (651, 1), (43, 19), (4369, 1), (43, 19), (6, 45), (4107, 1), (6, 45), (746, 2), (6, 45), (415, 1), (6, 45), (1319, 1), (6, 45), (1319, 1), (6, 45), (209, 7), (3540, 2), (4972, 1), (3540, 2), (4972, 1), (3540, 2), (4972, 1), (3540, 2), (4972, 1), (3540, 2), (209, 7), (3540, 2), (4972, 1), (3540, 2), (209, 7), (780, 1), (209, 7), (6, 45), (4108, 1), (6, 45), (1541, 3), (6, 45), (2823, 1), (6, 45), (2827, 1), (6, 45), (114, 2), (595, 5), (2939, 2), (595, 5), (114, 2), (595, 5), (2939, 2), (3841, 1), (2939, 2), (3841, 1), (2939, 2), (3841, 1), (2939, 2), (3841, 1), (2939, 2), (3841, 1), (2939, 2), (3841, 1), (2939, 2), (595, 5), (1024, 2), (3615, 1), (1024, 2), (3615, 1), (1024, 2), (595, 5), (1024, 2), (3615, 1), (1024, 2), (3615, 1), (1024, 2), (3615, 1), (1024, 2), (595, 5), (2939, 2), (3841, 1), (2939, 2), (595, 5), (114, 2), (595, 5), (114, 2), (6, 45), (697, 5), (1280, 2), (697, 5), (1672, 2), (2812, 1), (1672, 2), (2812, 1), (1672, 2), (2812, 1), (1672, 2), (2812, 1), (1672, 2), (697, 5), (1672, 2), (2812, 1), (1672, 2), (2812, 1), (1672, 2), (697, 5), (1672, 2), (697, 5), (1328, 9), (2185, 2), (1328, 9), (1568, 2), (1328, 9), (3531, 1), (1328, 9), (697, 5), (1280, 2), (3694, 1), (1280, 2), (3694, 1), (1280, 2), (3694, 1), (1280, 2), (3694, 1), (1280, 2), (3694, 1), (1280, 2), (3694, 1), (1280, 2), (697, 5), (1328, 9), (697, 5), (1701, 4), (2885, 1), (1701, 4), (2195, 1), (1701, 4), (2195, 1), (1701, 4), (2195, 1), (1701, 4), (2195, 1), (1701, 4), (4744, 1), (1701, 4), (2195, 1), (1701, 4), (2885, 1), (1701, 4), (697, 5), (1701, 4), (4744, 1), (1701, 4), (697, 5), (1280, 2), (697, 5), (1328, 9), (2595, 1), (1328, 9), (1568, 2), (2383, 1), (1568, 2), (2383, 1), (1568, 2), (2383, 1), (1568, 2), (2383, 1), (1568, 2), (1328, 9), (1568, 2), (1328, 9), (697, 5), (1701, 4), (4744, 1), (1701, 4), (2195, 1), (1701, 4), (2195, 1), (1701, 4), (697, 5), (1701, 4), (2195, 1), (1701, 4), (2885, 1), (1701, 4), (4744, 1), (1701, 4), (4744, 1), (1701, 4), (4744, 1), (1701, 4), (4744, 1), (1701, 4), (2195, 1), (1701, 4), (2195, 1), (1701, 4), (2885, 1), (1701, 4), (2195, 1), (1701, 4), (2885, 1), (1701, 4), (4744, 1), (1701, 4), (2195, 1), (1701, 4), (2195, 1), (1701, 4), (697, 5), (1328, 9), (2769, 1), (1328, 9), (2769, 1), (1328, 9), (1568, 2), (2383, 1), (1568, 2), (1328, 9), (697, 5), (1280, 2), (3694, 1), (1280, 2), (697, 5), (1280, 2), (3694, 1), (1280, 2), (697, 5), (1280, 2), (697, 5), (1328, 9), (3531, 1), (1328, 9), (3531, 1), (1328, 9), (2185, 2), (4156, 1), (2185, 2), (1328, 9), (2495, 1), (1328, 9), (4090, 1)]\n",
      "[1, 3, 1, 3, 3, 10, 1, 10, 2, 1, 2, 10, 1, 10, 4, 1, 4, 10, 10, 1, 10, 19, 1, 19, 1, 19, 1, 19, 1, 19, 1, 19, 1, 19, 1, 19, 1, 19, 1, 19, 1, 19, 9, 1, 9, 1, 9, 1, 9, 1, 9, 1, 9, 1, 9, 1, 9, 1, 9, 1, 9, 3, 1, 3, 1, 3, 9, 1, 9, 1, 9, 1, 9, 19, 1, 19, 2, 1, 2, 1, 2, 1, 2, 1, 2, 19, 1, 19, 1, 19, 1, 19, 10, 1, 10, 3, 1, 3, 1, 3, 1, 3, 10, 1, 10, 1, 10, 1, 10, 1, 10, 6, 10, 6, 1, 6, 10, 1, 10, 3, 10, 1, 10, 1, 10, 1, 10, 1, 10, 3, 10, 1, 10, 3, 1, 3, 10, 1, 10, 1, 10, 1, 10, 1, 10, 6, 1, 6, 1, 6, 1, 6, 1, 6, 1, 6, 1, 6, 1, 6, 1, 6, 1, 6, 2, 6, 1, 6, 1, 6, 1, 6, 2, 6, 2, 6, 1, 6, 1, 6, 1, 6, 1, 6, 2, 6, 2, 2, 2, 6, 1, 6, 1, 6, 1, 6, 10, 1, 10, 3, 1, 3, 1, 3, 10, 1, 10, 3, 1, 3, 1, 3, 1, 3, 1, 3, 1, 3, 1, 3, 1, 3, 1, 3, 10, 19, 1, 19, 1, 19, 1, 19, 3, 1, 3, 19, 1, 19, 3, 1, 3, 19, 9, 19, 2, 4, 1, 4, 2, 19, 1, 19, 2, 4, 1, 4, 1, 4, 1, 4, 2, 19, 1, 19, 1, 19, 45, 1, 45, 2, 45, 1, 45, 1, 45, 1, 45, 7, 2, 1, 2, 1, 2, 1, 2, 1, 2, 7, 2, 1, 2, 7, 1, 7, 45, 1, 45, 3, 45, 1, 45, 1, 45, 2, 5, 2, 5, 2, 5, 2, 1, 2, 1, 2, 1, 2, 1, 2, 1, 2, 1, 2, 5, 2, 1, 2, 1, 2, 5, 2, 1, 2, 1, 2, 1, 2, 5, 2, 1, 2, 5, 2, 5, 2, 45, 5, 2, 5, 2, 1, 2, 1, 2, 1, 2, 1, 2, 5, 2, 1, 2, 1, 2, 5, 2, 5, 9, 2, 9, 2, 9, 1, 9, 5, 2, 1, 2, 1, 2, 1, 2, 1, 2, 1, 2, 1, 2, 5, 9, 5, 4, 1, 4, 1, 4, 1, 4, 1, 4, 1, 4, 1, 4, 1, 4, 1, 4, 5, 4, 1, 4, 5, 2, 5, 9, 1, 9, 2, 1, 2, 1, 2, 1, 2, 1, 2, 9, 2, 9, 5, 4, 1, 4, 1, 4, 1, 4, 5, 4, 1, 4, 1, 4, 1, 4, 1, 4, 1, 4, 1, 4, 1, 4, 1, 4, 1, 4, 1, 4, 1, 4, 1, 4, 1, 4, 1, 4, 5, 9, 1, 9, 1, 9, 2, 1, 2, 9, 5, 2, 1, 2, 5, 2, 1, 2, 5, 2, 5, 9, 1, 9, 1, 9, 2, 1, 2, 9, 1, 9, 1]\n"
     ],
     "output_type": "stream"
    }
   ],
   "source": [
    "temp = results.loc[5][\"degrees\"].replace(\"(\",\"\")\n",
    "temp = temp.replace(\")\",\"\")\n",
    "temp = temp.replace(\"[\",\"\")\n",
    "temp = temp.replace(\"]\",\"\")\n",
    "temp = temp.replace(\" \",\"\")\n",
    "temp = temp.split(\",\")\n",
    "temp = list(map(int,temp))\n",
    "final  = list()\n",
    "deg  = list()\n",
    "for x in range(0,len(temp),2):\n",
    "    final.append((temp[x],temp[x+1]))\n",
    "    deg.append(temp[x+1])\n",
    "print(final)\n",
    "print(deg)"
   ],
   "metadata": {
    "collapsed": false,
    "pycharm": {
     "name": "#%%\n",
     "is_executing": false
    }
   }
  },
  {
   "cell_type": "code",
   "execution_count": 31,
   "outputs": [
    {
     "data": {
      "text/plain": "(array([359.,  65.,  34.,   0.,  30.,   0.,   0.,   0.,   0.,  12.]),\n array([ 1. ,  5.4,  9.8, 14.2, 18.6, 23. , 27.4, 31.8, 36.2, 40.6, 45. ]),\n <a list of 10 Patch objects>)"
     },
     "metadata": {},
     "output_type": "execute_result",
     "execution_count": 31
    },
    {
     "data": {
      "text/plain": "<Figure size 432x288 with 1 Axes>",
      "image/png": "[encoded data removed]"
     },
     "metadata": {
      "needs_background": "light"
     },
     "output_type": "display_data"
    }
   ],
   "source": [
    "plt.hist(deg, alpha=0.5, label='x')"
   ],
   "metadata": {
    "collapsed": false,
    "pycharm": {
     "name": "#%%\n",
     "is_executing": false
    }
   }
  },
  {
   "cell_type": "code",
   "execution_count": 40,
   "outputs": [],
   "source": [
    "def convert_degree(entry):\n",
    "    temp = entry.replace(\"(\",\"\")\n",
    "    temp = temp.replace(\")\",\"\")\n",
    "    temp = temp.replace(\"[\",\"\")\n",
    "    temp = temp.replace(\"]\",\"\")\n",
    "    temp = temp.replace(\" \",\"\")\n",
    "    temp = temp.split(\",\")\n",
    "    temp = list(map(int,temp))\n",
    "    final_true  = list()\n",
    "    for x in range(0,len(temp),2):\n",
    "        final_true.append((temp[x],temp[x+1]))\n",
    "    return(final_true)"
   ],
   "metadata": {
    "collapsed": false,
    "pycharm": {
     "name": "#%%\n",
     "is_executing": false
    }
   }
  },
  {
   "cell_type": "code",
   "execution_count": 43,
   "outputs": [
    {
     "data": {
      "text/plain": "(array([4.758e+03, 1.680e+02, 3.200e+01, 1.500e+01, 1.200e+01, 1.000e+00,\n        5.000e+00, 1.000e+00, 2.000e+00, 3.000e+00]),\n array([ 1. ,  5.7, 10.4, 15.1, 19.8, 24.5, 29.2, 33.9, 38.6, 43.3, 48. ]),\n <a list of 10 Patch objects>)"
     },
     "metadata": {},
     "output_type": "execute_result",
     "execution_count": 43
    },
    {
     "data": {
      "text/plain": "<Figure size 432x288 with 1 Axes>",
      "image/png": "[encoded data removed]"
     },
     "metadata": {
      "needs_background": "light"
     },
     "output_type": "display_data"
    }
   ],
   "source": [
    "true_degree = convert_degree(results.loc[5][\"true_degree\"]) \n",
    "deg = [x[1] for x in true_degree]\n",
    "plt.hist([x for x in deg if x<50], alpha=0.5, label='x')"
   ],
   "metadata": {
    "collapsed": false,
    "pycharm": {
     "name": "#%%\n",
     "is_executing": false
    }
   }
  },
  {
   "cell_type": "code",
   "execution_count": 44,
   "outputs": [
    {
     "data": {
      "text/plain": "   Unnamed: 0  percentage  avg_clustering  \\\n0           0         0.1             0.0   \n1           1         0.1             0.0   \n2           2         0.1             0.0   \n3           3         0.1             0.0   \n4           4         0.1             0.0   \n\n                                             degrees  true_clust   alg     C  \\\n0  [(4000, 1), (271, 14), (1512, 1), (1749, 1), (...         0.0  list   NaN   \n1  [(657, 4), (354, 2), (171, 4), (1123, 2), (171...         0.0   gmd  50.0   \n2  [(2889, 2), (4135, 1), (2889, 2), (4135, 1), (...         0.0  rcmh   NaN   \n3  [(4758, 1), (3722, 2), (1802, 2), (470, 9), (3...         0.0  list   NaN   \n4  [(3636, 1), (537, 6), (93, 6), (2798, 1), (93,...         0.0   gmd  50.0   \n\n   alpha  m                                        true_degree  \n0    NaN  1  [(0, 159), (1, 12), (2, 52), (3, 2), (4, 30), ...  \n1    NaN  1  [(0, 159), (1, 12), (2, 52), (3, 2), (4, 30), ...  \n2    0.1  1  [(0, 159), (1, 12), (2, 52), (3, 2), (4, 30), ...  \n3    NaN  1  [(0, 159), (1, 12), (2, 52), (3, 2), (4, 30), ...  \n4    NaN  1  [(0, 159), (1, 12), (2, 52), (3, 2), (4, 30), ...  ",
      "text/html": "<div>\n<style scoped>\n    .dataframe tbody tr th:only-of-type {\n        vertical-align: middle;\n    }\n\n    .dataframe tbody tr th {\n        vertical-align: top;\n    }\n\n    .dataframe thead th {\n        text-align: right;\n    }\n</style>\n<table border=\"1\" class=\"dataframe\">\n  <thead>\n    <tr style=\"text-align: right;\">\n      <th></th>\n      <th>Unnamed: 0</th>\n      <th>percentage</th>\n      <th>avg_clustering</th>\n      <th>degrees</th>\n      <th>true_clust</th>\n      <th>alg</th>\n      <th>C</th>\n      <th>alpha</th>\n      <th>m</th>\n      <th>true_degree</th>\n    </tr>\n  </thead>\n  <tbody>\n    <tr>\n      <th>0</th>\n      <td>0</td>\n      <td>0.1</td>\n      <td>0.0</td>\n      <td>[(4000, 1), (271, 14), (1512, 1), (1749, 1), (...</td>\n      <td>0.0</td>\n      <td>list</td>\n      <td>NaN</td>\n      <td>NaN</td>\n      <td>1</td>\n      <td>[(0, 159), (1, 12), (2, 52), (3, 2), (4, 30), ...</td>\n    </tr>\n    <tr>\n      <th>1</th>\n      <td>1</td>\n      <td>0.1</td>\n      <td>0.0</td>\n      <td>[(657, 4), (354, 2), (171, 4), (1123, 2), (171...</td>\n      <td>0.0</td>\n      <td>gmd</td>\n      <td>50.0</td>\n      <td>NaN</td>\n      <td>1</td>\n      <td>[(0, 159), (1, 12), (2, 52), (3, 2), (4, 30), ...</td>\n    </tr>\n    <tr>\n      <th>2</th>\n      <td>2</td>\n      <td>0.1</td>\n      <td>0.0</td>\n      <td>[(2889, 2), (4135, 1), (2889, 2), (4135, 1), (...</td>\n      <td>0.0</td>\n      <td>rcmh</td>\n      <td>NaN</td>\n      <td>0.1</td>\n      <td>1</td>\n      <td>[(0, 159), (1, 12), (2, 52), (3, 2), (4, 30), ...</td>\n    </tr>\n    <tr>\n      <th>3</th>\n      <td>3</td>\n      <td>0.1</td>\n      <td>0.0</td>\n      <td>[(4758, 1), (3722, 2), (1802, 2), (470, 9), (3...</td>\n      <td>0.0</td>\n      <td>list</td>\n      <td>NaN</td>\n      <td>NaN</td>\n      <td>1</td>\n      <td>[(0, 159), (1, 12), (2, 52), (3, 2), (4, 30), ...</td>\n    </tr>\n    <tr>\n      <th>4</th>\n      <td>4</td>\n      <td>0.1</td>\n      <td>0.0</td>\n      <td>[(3636, 1), (537, 6), (93, 6), (2798, 1), (93,...</td>\n      <td>0.0</td>\n      <td>gmd</td>\n      <td>50.0</td>\n      <td>NaN</td>\n      <td>1</td>\n      <td>[(0, 159), (1, 12), (2, 52), (3, 2), (4, 30), ...</td>\n    </tr>\n  </tbody>\n</table>\n</div>"
     },
     "metadata": {},
     "output_type": "execute_result",
     "execution_count": 44
    }
   ],
   "source": [
    "results.head()"
   ],
   "metadata": {
    "collapsed": false,
    "pycharm": {
     "name": "#%%\n",
     "is_executing": false
    }
   }
  },
  {
   "cell_type": "code",
   "execution_count": 49,
   "outputs": [
    {
     "name": "stdout",
     "text": [
      "    Unnamed: 0  percentage  avg_clustering  \\\n",
      "0            0         0.1        0.000000   \n",
      "3            3         0.1        0.000000   \n",
      "6            6         0.1        0.000000   \n",
      "9            9         0.1        0.000000   \n",
      "12          12         0.1        0.000000   \n",
      "15          15         0.1        0.060233   \n",
      "18          18         0.1        0.036057   \n",
      "21          21         0.1        0.047012   \n",
      "24          24         0.1        0.048018   \n",
      "27          27         0.1        0.064954   \n",
      "\n",
      "                                              degrees  true_clust   alg   C  \\\n",
      "0   [(4000, 1), (271, 14), (1512, 1), (1749, 1), (...     0.00000  list NaN   \n",
      "3   [(4758, 1), (3722, 2), (1802, 2), (470, 9), (3...     0.00000  list NaN   \n",
      "6   [(3931, 1), (750, 3), (0, 121), (4099, 1), (18...     0.00000  list NaN   \n",
      "9   [(949, 4), (2116, 2), (664, 6), (4232, 1), (61...     0.00000  list NaN   \n",
      "12  [(6, 35), (209, 3), (4291, 1), (106, 17), (358...     0.00000  list NaN   \n",
      "15  [(2357, 10), (1695, 4), (3, 40), (890, 16), (1...     0.03607  list NaN   \n",
      "18  [(1209, 14), (4464, 7), (613, 13), (3275, 8), ...     0.03607  list NaN   \n",
      "21  [(3215, 14), (768, 12), (4984, 2), (178, 18), ...     0.03607  list NaN   \n",
      "24  [(195, 42), (3670, 5), (221, 18), (259, 28), (...     0.03607  list NaN   \n",
      "27  [(4517, 8), (4104, 5), (35, 67), (148, 32), (1...     0.03607  list NaN   \n",
      "\n",
      "    alpha   m                                        true_degree  \n",
      "0     NaN   1  [(0, 159), (1, 12), (2, 52), (3, 2), (4, 30), ...  \n",
      "3     NaN   1  [(0, 159), (1, 12), (2, 52), (3, 2), (4, 30), ...  \n",
      "6     NaN   1  [(0, 159), (1, 12), (2, 52), (3, 2), (4, 30), ...  \n",
      "9     NaN   1  [(0, 159), (1, 12), (2, 52), (3, 2), (4, 30), ...  \n",
      "12    NaN   1  [(0, 159), (1, 12), (2, 52), (3, 2), (4, 30), ...  \n",
      "15    NaN  26  [(0, 291), (1, 276), (2, 236), (3, 233), (4, 1...  \n",
      "18    NaN  26  [(0, 291), (1, 276), (2, 236), (3, 233), (4, 1...  \n",
      "21    NaN  26  [(0, 291), (1, 276), (2, 236), (3, 233), (4, 1...  \n",
      "24    NaN  26  [(0, 291), (1, 276), (2, 236), (3, 233), (4, 1...  \n",
      "27    NaN  26  [(0, 291), (1, 276), (2, 236), (3, 233), (4, 1...  \n",
      "    Unnamed: 0  percentage  avg_clustering  \\\n",
      "2            2         0.1        0.000000   \n",
      "5            5         0.1        0.000000   \n",
      "8            8         0.1        0.000000   \n",
      "11          11         0.1        0.000000   \n",
      "14          14         0.1        0.000000   \n",
      "17          17         0.1        0.034876   \n",
      "20          20         0.1        0.036719   \n",
      "23          23         0.1        0.035299   \n",
      "26          26         0.1        0.036501   \n",
      "29          29         0.1        0.035747   \n",
      "\n",
      "                                              degrees  true_clust   alg   C  \\\n",
      "2   [(2889, 2), (4135, 1), (2889, 2), (4135, 1), (...     0.00000  rcmh NaN   \n",
      "5   [(3456, 1), (2121, 3), (3456, 1), (2121, 3), (...     0.00000  rcmh NaN   \n",
      "8   [(812, 1), (124, 6), (2366, 1), (124, 6), (836...     0.00000  rcmh NaN   \n",
      "11  [(401, 2), (172, 4), (4106, 1), (172, 4), (54,...     0.00000  rcmh NaN   \n",
      "14  [(938, 1), (295, 3), (8, 44), (4745, 1), (8, 4...     0.00000  rcmh NaN   \n",
      "17  [(1328, 41), (2564, 34), (1615, 40), (3984, 30...     0.03607  rcmh NaN   \n",
      "20  [(2410, 40), (4031, 29), (551, 90), (1811, 44)...     0.03607  rcmh NaN   \n",
      "23  [(80, 218), (8, 245), (1773, 51), (3132, 31), ...     0.03607  rcmh NaN   \n",
      "26  [(87, 274), (1507, 38), (4233, 28), (392, 97),...     0.03607  rcmh NaN   \n",
      "29  [(428, 78), (1557, 45), (968, 58), (219, 146),...     0.03607  rcmh NaN   \n",
      "\n",
      "    alpha   m                                        true_degree  \n",
      "2     0.1   1  [(0, 159), (1, 12), (2, 52), (3, 2), (4, 30), ...  \n",
      "5     0.1   1  [(0, 159), (1, 12), (2, 52), (3, 2), (4, 30), ...  \n",
      "8     0.1   1  [(0, 159), (1, 12), (2, 52), (3, 2), (4, 30), ...  \n",
      "11    0.1   1  [(0, 159), (1, 12), (2, 52), (3, 2), (4, 30), ...  \n",
      "14    0.1   1  [(0, 159), (1, 12), (2, 52), (3, 2), (4, 30), ...  \n",
      "17    0.1  26  [(0, 291), (1, 276), (2, 236), (3, 233), (4, 1...  \n",
      "20    0.1  26  [(0, 291), (1, 276), (2, 236), (3, 233), (4, 1...  \n",
      "23    0.1  26  [(0, 291), (1, 276), (2, 236), (3, 233), (4, 1...  \n",
      "26    0.1  26  [(0, 291), (1, 276), (2, 236), (3, 233), (4, 1...  \n",
      "29    0.1  26  [(0, 291), (1, 276), (2, 236), (3, 233), (4, 1...  \n",
      "    Unnamed: 0  percentage  avg_clustering  \\\n",
      "1            1         0.1        0.000000   \n",
      "4            4         0.1        0.000000   \n",
      "7            7         0.1        0.000000   \n",
      "10          10         0.1        0.000000   \n",
      "13          13         0.1        0.000000   \n",
      "16          16         0.1        0.035155   \n",
      "19          19         0.1        0.037646   \n",
      "22          22         0.1        0.036581   \n",
      "25          25         0.1        0.036939   \n",
      "28          28         0.1        0.034670   \n",
      "\n",
      "                                              degrees  true_clust  alg     C  \\\n",
      "1   [(657, 4), (354, 2), (171, 4), (1123, 2), (171...     0.00000  gmd  50.0   \n",
      "4   [(3636, 1), (537, 6), (93, 6), (2798, 1), (93,...     0.00000  gmd  50.0   \n",
      "7   [(4716, 1), (3259, 3), (1920, 2), (3259, 3), (...     0.00000  gmd  50.0   \n",
      "10  [(319, 1), (5, 98), (37, 11), (3217, 1), (37, ...     0.00000  gmd  50.0   \n",
      "13  [(2604, 2), (26, 21), (2, 52), (1, 12), (2, 52...     0.00000  gmd  50.0   \n",
      "16  [(3109, 36), (3738, 26), (205, 123), (550, 93)...     0.03607  gmd  50.0   \n",
      "19  [(389, 99), (3575, 35), (389, 99), (59, 366), ...     0.03607  gmd  50.0   \n",
      "22  [(1102, 46), (1319, 57), (4678, 26), (482, 106...     0.03607  gmd  50.0   \n",
      "25  [(145, 159), (70, 292), (3498, 29), (28, 505),...     0.03607  gmd  50.0   \n",
      "28  [(703, 63), (846, 67), (4765, 27), (37, 379), ...     0.03607  gmd  50.0   \n",
      "\n",
      "    alpha   m                                        true_degree  \n",
      "1     NaN   1  [(0, 159), (1, 12), (2, 52), (3, 2), (4, 30), ...  \n",
      "4     NaN   1  [(0, 159), (1, 12), (2, 52), (3, 2), (4, 30), ...  \n",
      "7     NaN   1  [(0, 159), (1, 12), (2, 52), (3, 2), (4, 30), ...  \n",
      "10    NaN   1  [(0, 159), (1, 12), (2, 52), (3, 2), (4, 30), ...  \n",
      "13    NaN   1  [(0, 159), (1, 12), (2, 52), (3, 2), (4, 30), ...  \n",
      "16    NaN  26  [(0, 291), (1, 276), (2, 236), (3, 233), (4, 1...  \n",
      "19    NaN  26  [(0, 291), (1, 276), (2, 236), (3, 233), (4, 1...  \n",
      "22    NaN  26  [(0, 291), (1, 276), (2, 236), (3, 233), (4, 1...  \n",
      "25    NaN  26  [(0, 291), (1, 276), (2, 236), (3, 233), (4, 1...  \n",
      "28    NaN  26  [(0, 291), (1, 276), (2, 236), (3, 233), (4, 1...  \n"
     ],
     "output_type": "stream"
    }
   ],
   "source": [
    "list_results = results[results[\"alg\"]==\"list\"]\n",
    "rcmh_results = results[results[\"alg\"]==\"rcmh\"]\n",
    "gmd_results = results[results[\"alg\"]==\"gmd\"]"
   ],
   "metadata": {
    "collapsed": false,
    "pycharm": {
     "name": "#%%\n",
     "is_executing": false
    }
   }
  },
  {
   "cell_type": "code",
   "execution_count": 58,
   "outputs": [
    {
     "data": {
      "text/plain": "[<matplotlib.lines.Line2D at 0x7f4bd31dc090>]"
     },
     "metadata": {},
     "output_type": "execute_result",
     "execution_count": 58
    },
    {
     "data": {
      "text/plain": "<Figure size 432x288 with 1 Axes>",
      "image/png": "[encoded data removed]"
     },
     "metadata": {
      "needs_background": "light"
     },
     "output_type": "display_data"
    }
   ],
   "source": [
    "# They are all fairly exact but list algorithm seems to have higher variablity \n",
    "colors = {'rcmh':'red', 'gmd':'blue', 'list':'green'}\n",
    "plt.scatter(results[\"true_clust\"], results[\"avg_clustering\"], c = results[\"alg\"].apply(lambda x: colors[x]), alpha=0.1)\n",
    "plt.plot(results[\"true_clust\"],results[\"true_clust\"])"
   ],
   "metadata": {
    "collapsed": false,
    "pycharm": {
     "name": "#%%\n",
     "is_executing": false
    }
   }
  },
  {
   "cell_type": "code",
   "execution_count": 62,
   "outputs": [
    {
     "data": {
      "text/plain": "[<matplotlib.lines.Line2D at 0x7f4bd3203c50>]"
     },
     "metadata": {},
     "output_type": "execute_result",
     "execution_count": 62
    },
    {
     "data": {
      "text/plain": "<Figure size 432x288 with 1 Axes>",
      "image/png": "[encoded data removed]"
     },
     "metadata": {
      "needs_background": "light"
     },
     "output_type": "display_data"
    }
   ],
   "source": [
    "# variability much better seen for green\n",
    "plt.scatter(results[\"true_clust\"], results[\"avg_clustering\"]-results[\"true_clust\"], c = results[\"alg\"].apply(lambda x: colors[x]), alpha=0.1)\n",
    "plt.plot(results[\"true_clust\"],results[\"true_clust\"]-results[\"true_clust\"])"
   ],
   "metadata": {
    "collapsed": false,
    "pycharm": {
     "name": "#%%\n",
     "is_executing": false
    }
   }
  },
  {
   "cell_type": "code",
   "execution_count": null,
   "outputs": [],
   "source": [
    "# next steps: change alpha and sample size and measure avg clustering and degree distribution\n",
    "# next steps: change C and sample size and measure avg clustering and degree distribution\n",
    "# next steps: measure the time the different algorithms take to complete with change in degree distribution and alpha \n",
    "# (could be that it gets rejected a lot and takes a long time to finish)\n",
    "# next steps: quantify variability of list algorithm\n"
   ],
   "metadata": {
    "collapsed": false,
    "pycharm": {
     "name": "#%%\n"
    }
   }
  }
 ],
 "metadata": {
  "kernelspec": {
   "display_name": "Python 3",
   "language": "python",
   "name": "python3"
  },
  "language_info": {
   "codemirror_mode": {
    "name": "ipython",
    "version": 2
   },
   "file_extension": ".py",
   "mimetype": "text/x-python",
   "name": "python",
   "nbconvert_exporter": "python",
   "pygments_lexer": "ipython2",
   "version": "2.7.6"
  },
  "pycharm": {
   "stem_cell": {
    "cell_type": "raw",
    "source": [],
    "metadata": {
     "collapsed": false
    }
   }
  }
 },
 "nbformat": 4,
 "nbformat_minor": 0
}