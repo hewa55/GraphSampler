{
 "cells": [
  {
   "cell_type": "code",
   "execution_count": 2,
   "metadata": {
    "collapsed": true,
    "pycharm": {
     "is_executing": false
    }
   },
   "outputs": [],
   "source": [
    "from GraphSampler import GraphSample\n",
    "import networkx as nx\n",
    "import matplotlib.pyplot as plt\n",
    "import pandas as pd\n",
    "import time\n",
    "from scipy.stats import ks_2samp"
   ]
  },
  {
   "cell_type": "code",
   "execution_count": 35,
   "outputs": [],
   "source": [
    "def run_experiment_web(graph):\n",
    "    experiment_result = pd.DataFrame(columns=[\"percentage\",\"avg_clustering\",\"degrees\",\n",
    "                                              \"alg\",\"C\",\"alpha\",\"m\",\"time_sample\",\"time_clust\",\"V\"])\n",
    "    sampler = GraphSample()\n",
    "    for n in range(10,11):\n",
    "        print(\"n %s\" % n)\n",
    "        target_size = n/100\n",
    "        \n",
    "        C = 71\n",
    "        alpha = 0.2\n",
    "        time_sample_start = time.time()\n",
    "        nodes, edges = GraphSample().list_sampling(graph,target_size=target_size, V2=False)\n",
    "        time_sample = time.time() - time_sample_start\n",
    "        time_sample = float('%.2f' % time_sample)\n",
    "        \n",
    "        time_clust_start = time.time()\n",
    "        list_clust = nx.average_clustering(graph, nodes)\n",
    "        time_clust = time.time() - time_clust_start\n",
    "        time_clust = float('%.2f' % time_clust)\n",
    "        experiment_result = experiment_result.append({\"percentage\":target_size,\"avg_clustering\":list_clust,\n",
    "                                  \"degrees\":nx.degree(graph, nodes),\"alg\":\"list\",\"time_sample\":time_sample,\n",
    "                                                      \"time_clust\":time_clust,\"V\":1},ignore_index=True)\n",
    "        \n",
    "        time_sample_start = time.time()\n",
    "        nodes, edges = GraphSample().list_sampling(graph,target_size=target_size, V2=True)\n",
    "        time_sample = time.time() - time_sample_start\n",
    "        time_sample = float('%.2f' % time_sample)\n",
    "        \n",
    "        time_clust_start = time.time()\n",
    "        list_clust = nx.average_clustering(graph, nodes)\n",
    "        time_clust = time.time() - time_clust_start\n",
    "        time_clust = float('%.2f' % time_clust)\n",
    "        \n",
    "        experiment_result = experiment_result.append({\"percentage\":target_size,\"avg_clustering\":list_clust,\n",
    "                                  \"degrees\":nx.degree(graph, nodes),\"alg\":\"list\",\"time_sample\":time_sample,\n",
    "                                                      \"time_clust\":time_clust,\"V\":2},ignore_index=True)\n",
    "        \n",
    "        time_sample_start = time.time()\n",
    "        nodes_gmd, edges_gmd, eps = GraphSample().gmd(graph,target_size=target_size, C=C)\n",
    "        time_sample = time.time() - time_sample_start\n",
    "        time_sample = float('%.2f' % time_sample)\n",
    "        \n",
    "        time_clust_start = time.time()\n",
    "        gmd_clust = sampler.avg_clustering_gmd(graph,nodes_gmd,eps,C)\n",
    "        time_clust = time.time() - time_clust_start\n",
    "        time_clust = float('%.2f' % time_clust)\n",
    "        \n",
    "        experiment_result = experiment_result.append({\"percentage\":target_size,\"avg_clustering\":gmd_clust,\n",
    "                                  \"degrees\":nx.degree(graph,nodes_gmd),\"alg\":\"gmd\",\"time_sample\":time_sample,\n",
    "                                   \"time_clust\":time_clust, \"C\":C},ignore_index=True)\n",
    "            \n",
    "        time_sample_start = time.time()\n",
    "        nodes_rcmh, edges_rcmh = GraphSample().rcmhrw(graph,target_size = target_size, alpha= alpha)\n",
    "        time_sample = time.time() - time_sample_start\n",
    "        time_sample = float('%.2f' % time_sample)\n",
    "        \n",
    "        time_clust_start = time.time()\n",
    "        rcmh_clust = sampler.avg_clustering_rcmh(graph,nodes_rcmh,alpha)\n",
    "        time_clust = time.time() - time_clust_start\n",
    "        time_clust = float('%.2f' % time_clust)\n",
    "                    \n",
    "        experiment_result = experiment_result.append({\"percentage\":target_size,\"avg_clustering\":rcmh_clust,\n",
    "                                  \"degrees\":nx.degree(graph,nodes_rcmh),\"alg\":\"rcmh\",\"time_sample\":time_sample,\n",
    "                                    \"time_clust\":time_clust,\"alpha\":alpha},ignore_index=True)\n",
    "    \n",
    "    return experiment_result"
   ],
   "metadata": {
    "collapsed": false,
    "pycharm": {
     "name": "#%%\n",
     "is_executing": false
    }
   }
  },
  {
   "cell_type": "code",
   "execution_count": 36,
   "outputs": [],
   "source": [
    "def run_ba(m_list,target_size,C, alpha):\n",
    "    sampler = GraphSample()\n",
    "    experiment_result = pd.DataFrame(columns=[\"percentage\",\"avg_clustering\",\"degrees\",\"time_sample\",\"time_clust\",\n",
    "                                              \"true_clust\",\"alg\",\"C\",\"alpha\",\"m\",\"true_degree\",\"V\"])\n",
    "    for m in m_list:\n",
    "        print(m)\n",
    "        g = nx.barabasi_albert_graph(5000,m, seed = 0)\n",
    "        true_clust = nx.average_clustering(g)\n",
    "        for run in range(5):\n",
    "            time_sample_start = time.time()\n",
    "            nodes, edges = GraphSample().list_sampling(g,target_size=target_size)\n",
    "            time_sample = time.time() - time_sample_start\n",
    "            time_sample = float('%.2f' % time_sample)\n",
    "            \n",
    "            time_clust_start = time.time()\n",
    "            list_clust = nx.average_clustering(g, nodes)\n",
    "            time_clust = time.time() - time_clust_start\n",
    "            time_clust = float('%.2f' % time_clust)\n",
    "            \n",
    "            experiment_result = experiment_result.append({\"percentage\":target_size,\"avg_clustering\":list_clust,\n",
    "                                      \"degrees\":nx.degree(g,nodes),\"true_clust\":true_clust,\"time_sample\":time_sample,\n",
    "                                       \"time_clust\":time_clust,\"alg\":\"list\",\"m\":m,\n",
    "                                        \"true_degree\":nx.degree(g),\"V\":1},ignore_index=True)\n",
    "            time_sample_start = time.time()\n",
    "            nodes, edges = GraphSample().list_sampling(g,target_size=target_size, V2=True)\n",
    "            time_sample = time.time() - time_sample_start\n",
    "            time_sample = float('%.2f' % time_sample)\n",
    "        \n",
    "            time_clust_start = time.time()\n",
    "            list_clust = nx.average_clustering(g, nodes)\n",
    "            time_clust = time.time() - time_clust_start\n",
    "            time_clust = float('%.2f' % time_clust)\n",
    "            experiment_result = experiment_result.append({\"percentage\":target_size,\"avg_clustering\":list_clust,\n",
    "                                      \"degrees\":nx.degree(g,nodes),\"true_clust\":true_clust,\"time_sample\":time_sample,\n",
    "                                   \"time_clust\":time_clust,\n",
    "                                      \"alg\":\"list\",\"m\":m,\"true_degree\":nx.degree(g),\"V\":2},ignore_index=True)\n",
    "            time_sample_start = time.time()\n",
    "      \n",
    "            nodes_gmd, edges_gmd, eps = GraphSample().gmd(g,target_size=target_size, C= C)\n",
    "            time_sample = time.time() - time_sample_start\n",
    "            time_sample = float('%.2f' % time_sample)\n",
    "        \n",
    "            time_clust_start = time.time()\n",
    "            gmd_clust = sampler.avg_clustering_gmd(g,nodes_gmd,eps,C)\n",
    "            time_clust = time.time() - time_clust_start\n",
    "            time_clust = float('%.2f' % time_clust)\n",
    "            experiment_result = experiment_result.append({\"percentage\":target_size,\"avg_clustering\":gmd_clust,\n",
    "                                      \"degrees\":nx.degree(g,nodes_gmd),\"true_clust\":true_clust,\"time_sample\":time_sample,\n",
    "                                   \"time_clust\":time_clust,\n",
    "                                      \"alg\":\"gmd\", \"C\": C,\"m\":m,\"true_degree\":nx.degree(g)},ignore_index=True)    \n",
    "            time_sample_start = time.time()\n",
    "            nodes_rcmh, edges_rcmh = GraphSample().rcmhrw(g,target_size = target_size, alpha= alpha)\n",
    "            time_sample = time.time() - time_sample_start\n",
    "            time_sample = float('%.2f' % time_sample)\n",
    "        \n",
    "            time_clust_start = time.time()\n",
    "            rcmh_clust = sampler.avg_clustering_rcmh(g,nodes_rcmh,alpha)\n",
    "            time_clust = time.time() - time_clust_start\n",
    "            time_clust = float('%.2f' % time_clust)\n",
    "            experiment_result = experiment_result.append({\"percentage\":target_size,\"avg_clustering\":rcmh_clust,\n",
    "                                      \"degrees\":nx.degree(g,nodes_rcmh),\"true_clust\":true_clust,\"time_sample\":time_sample,\n",
    "                                   \"time_clust\":time_clust,\n",
    "                                      \"alg\":\"rcmh\", \"alpha\": alpha,\"m\":m,\"true_degree\":nx.degree(g)},ignore_index=True)    \n",
    "    return experiment_result           "
   ],
   "metadata": {
    "collapsed": false,
    "pycharm": {
     "name": "#%%\n",
     "is_executing": false
    }
   }
  },
  {
   "cell_type": "code",
   "execution_count": 37,
   "outputs": [],
   "source": [
    "def run_gnp(m_list,target_size):\n",
    "    sampler = GraphSample()\n",
    "    experiment_result = pd.DataFrame(columns=[\"percentage\",\"avg_clustering\",\"nodes\",\"time_sample\",\"time_clust\",\n",
    "                                              \"true_clust\",\"alg\",\"C\",\"alpha\",\"p\",\"true_degree\",\"V\"])\n",
    "    for p in m_list:\n",
    "        \n",
    "        print(p)\n",
    "        g = nx.gnp_random_graph(5000,p, seed = 0)\n",
    "        true_clust = nx.average_clustering(g)\n",
    "        time_sample_start = time.time()\n",
    "        nodes, edges = GraphSample().list_sampling(g,target_size=target_size)\n",
    "        time_sample = time.time() - time_sample_start\n",
    "        time_sample = float('%.2f' % time_sample)\n",
    "    \n",
    "        time_clust_start = time.time()\n",
    "        list_clust = nx.average_clustering(g, nodes)\n",
    "        time_clust = time.time() - time_clust_start\n",
    "        time_clust = float('%.2f' % time_clust)\n",
    "        experiment_result = experiment_result.append({\"percentage\":target_size,\"avg_clustering\":list_clust,\n",
    "                                      \"degrees\":nx.degree(g,nodes),\"true_clust\":true_clust,\"time_sample\":time_sample,\n",
    "                                   \"time_clust\":time_clust,\n",
    "                                      \"alg\":\"list1\",\"p\":p,\"true_degree\":nx.degree(g), \"V\":1},ignore_index=True)\n",
    "        time_sample_start = time.time()\n",
    "        nodes, edges = GraphSample().list_sampling(g,target_size=target_size, V2=True)\n",
    "        time_sample = time.time() - time_sample_start\n",
    "        time_sample = float('%.2f' % time_sample)\n",
    "    \n",
    "        time_clust_start = time.time()\n",
    "        list_clust = nx.average_clustering(g, nodes)\n",
    "        time_clust = time.time() - time_clust_start\n",
    "        time_clust = float('%.2f' % time_clust)\n",
    "        experiment_result = experiment_result.append({\"percentage\":target_size,\"avg_clustering\":list_clust,\n",
    "                                      \"degrees\":nx.degree(g,nodes),\"true_clust\":true_clust,\"time_sample\":time_sample,\n",
    "                                   \"time_clust\":time_clust,\n",
    "                                      \"alg\":\"list2\",\"p\":p,\"true_degree\":nx.degree(g), \"V\":2},ignore_index=True)\n",
    "        \n",
    "        for run in range(6):\n",
    "            c_options = {0:0,1:30,2:50,3:70,4:100,5:150}\n",
    "            C = c_options[run]\n",
    "            time_sample_start = time.time()\n",
    "      \n",
    "            nodes_gmd, edges_gmd, eps = GraphSample().gmd(g,target_size=target_size, C= C)\n",
    "            time_sample = time.time() - time_sample_start\n",
    "            time_sample = float('%.2f' % time_sample)\n",
    "        \n",
    "            time_clust_start = time.time()\n",
    "            gmd_clust = sampler.avg_clustering_gmd(g,nodes_gmd,eps,C)\n",
    "            time_clust = time.time() - time_clust_start\n",
    "            time_clust = float('%.2f' % time_clust)\n",
    "            experiment_result = experiment_result.append({\"percentage\":target_size,\"avg_clustering\":gmd_clust,\n",
    "                                      \"degrees\":nx.degree(g,nodes_gmd),\"true_clust\":true_clust,\"time_sample\":time_sample,\n",
    "                                   \"time_clust\":time_clust,\n",
    "                                      \"alg\":\"gmd\", \"C\": C,\"p\":p,\"true_degree\":nx.degree(g)},ignore_index=True)\n",
    "        \n",
    "            alpha_options = {0:0,1:0.2,2:0.4,3:0.6,4:0.8,5:1}\n",
    "            alpha = alpha_options[run]\n",
    "           \n",
    "            time_sample_start = time.time()\n",
    "            nodes_rcmh, edges_rcmh = GraphSample().rcmhrw(g,target_size = target_size, alpha= alpha)\n",
    "            time_sample = time.time() - time_sample_start\n",
    "            time_sample = float('%.2f' % time_sample)\n",
    "        \n",
    "            time_clust_start = time.time()\n",
    "            rcmh_clust = sampler.avg_clustering_rcmh(g,nodes_rcmh,alpha)\n",
    "            time_clust = time.time() - time_clust_start\n",
    "            time_clust = float('%.2f' % time_clust)\n",
    "            experiment_result = experiment_result.append({\"percentage\":target_size,\"avg_clustering\":rcmh_clust,\n",
    "                                      \"degrees\":nx.degree(g,nodes_gmd),\"true_clust\":true_clust,\"time_sample\":time_sample,\n",
    "                                   \"time_clust\":time_clust,\n",
    "                                      \"alg\":\"rcmh\", \"alpha\": alpha,\"p\":p,\"true_degree\":nx.degree(g)},ignore_index=True)    \n",
    "    return experiment_result"
   ],
   "metadata": {
    "collapsed": false,
    "pycharm": {
     "name": "#%%\n",
     "is_executing": false
    }
   }
  },
  {
   "cell_type": "code",
   "execution_count": 38,
   "outputs": [],
   "source": [
    "def convert_degree(entry):\n",
    "    temp = entry.replace(\"(\",\"\")\n",
    "    temp = temp.replace(\")\",\"\")\n",
    "    temp = temp.replace(\"[\",\"\")\n",
    "    temp = temp.replace(\"]\",\"\")\n",
    "    temp = temp.replace(\" \",\"\")\n",
    "    temp = temp.replace(\"'\",\"\")\n",
    "    temp = temp.split(\",\")\n",
    "    temp = list(map(int,temp))\n",
    "    final_true  = list()\n",
    "    for x in range(0,len(temp),2):\n",
    "        final_true.append((temp[x],temp[x+1]))\n",
    "    return(final_true)"
   ],
   "metadata": {
    "collapsed": false,
    "pycharm": {
     "name": "#%%\n",
     "is_executing": false
    }
   }
  },
  {
   "cell_type": "code",
   "execution_count": 34,
   "outputs": [
    {
     "name": "stdout",
     "text": [
      "1\n",
      "26\n",
      "75\n",
      "250\n",
      "500\n"
     ],
     "output_type": "stream"
    }
   ],
   "source": [
    "experiment_result = run_ba([1,26,75,250,500],0.1,71,0.1)\n",
    "experiment_result.to_csv(\"results/barabasi.csv\")"
   ],
   "metadata": {
    "collapsed": false,
    "pycharm": {
     "name": "#%%\n",
     "is_executing": false
    }
   }
  },
  {
   "cell_type": "code",
   "execution_count": 35,
   "outputs": [
    {
     "name": "stdout",
     "text": [
      "0.01\n",
      "0.05\n",
      "0.1\n"
     ],
     "output_type": "stream"
    }
   ],
   "source": [
    "experiment_result = run_gnp([0.01,0.05,0.1],0.1)\n",
    "experiment_result.to_csv(\"results/gnp.csv\")"
   ],
   "metadata": {
    "collapsed": false,
    "pycharm": {
     "name": "#%%\n",
     "is_executing": false
    }
   }
  },
  {
   "cell_type": "code",
   "execution_count": 36,
   "outputs": [
    {
     "name": "stdout",
     "text": [
      "0.01\n",
      "0.05\n",
      "0.1\n"
     ],
     "output_type": "stream"
    }
   ],
   "source": [
    "experiment_result = run_gnp([0.01,0.05,0.1],0.01)\n",
    "experiment_result.to_csv(\"results/gnp_smaller_sample.csv\")"
   ],
   "metadata": {
    "collapsed": false,
    "pycharm": {
     "name": "#%%\n",
     "is_executing": false
    }
   }
  },
  {
   "cell_type": "code",
   "execution_count": 39,
   "outputs": [
    {
     "name": "stdout",
     "text": [
      "n 10\n"
     ],
     "output_type": "stream"
    }
   ],
   "source": [
    "enron = nx.read_edgelist(\"data/email-Enron.txt\")\n",
    "enron = run_experiment_web(enron)\n",
    "enron.to_csv(\"results/enron.csv\")"
   ],
   "metadata": {
    "collapsed": false,
    "pycharm": {
     "name": "#%%\n",
     "is_executing": false
    }
   }
  },
  {
   "cell_type": "code",
   "execution_count": 40,
   "outputs": [
    {
     "name": "stdout",
     "text": [
      "n 10\n"
     ],
     "output_type": "stream"
    }
   ],
   "source": [
    "web_stan = nx.read_edgelist(\"data/web-Stanford.txt\")\n",
    "stanford = run_experiment_web(web_stan)\n",
    "stanford.to_csv(\"results/web_stan.csv\")"
   ],
   "metadata": {
    "collapsed": false,
    "pycharm": {
     "name": "#%%\n",
     "is_executing": false
    }
   }
  },
  {
   "cell_type": "code",
   "execution_count": null,
   "outputs": [],
   "source": [
    "web = nx.read_edgelist(\"data/web-BerkStan.txt\")\n",
    "experiment_result = run_experiment_web(web)\n",
    "experiment_result.to_csv(\"results/web.csv\")"
   ],
   "metadata": {
    "collapsed": false,
    "pycharm": {
     "name": "#%%\n"
    }
   }
  },
  {
   "cell_type": "code",
   "execution_count": 12,
   "outputs": [],
   "source": [
    "results_web = pd.read_csv(\"results/web.csv\")\n",
    "results_web[\"true_clust\"] = 0.5967"
   ],
   "metadata": {
    "collapsed": false,
    "pycharm": {
     "name": "#%%\n",
     "is_executing": false
    }
   }
  },
  {
   "cell_type": "code",
   "execution_count": 15,
   "outputs": [
    {
     "name": "stdout",
     "text": [
      "   avg_clustering  true_clust   alg  time_sample  time_clust\n",
      "0        0.479394      0.5967  list       683.55       39.61\n",
      "1        0.000000      0.5967   gmd         0.47        0.14\n",
      "2        0.565354      0.5967  rcmh         4.61      280.64\n",
      "3        0.482849      0.5967  list      1405.11       49.88\n",
      "4        0.545768      0.5967   gmd        13.56      735.56\n",
      "5        0.466936      0.5967  rcmh         4.04      230.99\n"
     ],
     "output_type": "stream"
    }
   ],
   "source": [
    "# H0 All algorithms produce accurate results\n",
    "print(results_web[[\"avg_clustering\",\"true_clust\",\"alg\",\"time_sample\",\"time_clust\"]])"
   ],
   "metadata": {
    "collapsed": false,
    "pycharm": {
     "name": "#%%\n",
     "is_executing": false
    }
   }
  },
  {
   "cell_type": "code",
   "execution_count": 44,
   "outputs": [],
   "source": [
    "results = pd.read_csv(\"results/barabasi.csv\")"
   ],
   "metadata": {
    "collapsed": false,
    "pycharm": {
     "name": "#%%\n",
     "is_executing": false
    }
   }
  },
  {
   "cell_type": "code",
   "execution_count": 10,
   "outputs": [
    {
     "data": {
      "text/plain": "<Figure size 432x288 with 4 Axes>",
      "image/png": "[encoded data removed]"
     },
     "metadata": {
      "needs_background": "light"
     },
     "output_type": "display_data"
    }
   ],
   "source": [
    "fig = plt.figure()\n",
    "# m = 26\n",
    "plt.subplot(2, 2, 1)\n",
    "true_degree = convert_degree(results.loc[20][\"true_degree\"]) \n",
    "deg = [x[1] for x in true_degree]\n",
    "plt.hist([x for x in deg], alpha=0.5, label='x', log=True)\n",
    "plt.ylabel(\"Count (log scale)\")\n",
    "# m = 75\n",
    "plt.subplot(2, 2, 2)\n",
    "true_degree = convert_degree(results.loc[40][\"true_degree\"]) \n",
    "deg = [x[1] for x in true_degree]\n",
    "plt.hist([x for x in deg], alpha=0.5, label='x', log=True)\n",
    "# m = 250\n",
    "plt.subplot(2, 2, 3)\n",
    "true_degree = convert_degree(results.loc[60][\"true_degree\"]) \n",
    "deg = [x[1] for x in true_degree]\n",
    "plt.hist([x for x in deg], alpha=0.5, label='x', log=True)\n",
    "plt.xlabel(\"Degree\")\n",
    "plt.ylabel(\"Count (log scale)\")\n",
    "# m = 500\n",
    "plt.subplot(2, 2, 4)\n",
    "true_degree = convert_degree(results.loc[90][\"true_degree\"]) \n",
    "deg = [x[1] for x in true_degree]\n",
    "plt.hist([x for x in deg], alpha=0.5, label='x', log=True)\n",
    "plt.xlabel(\"Degree\")\n",
    "\n",
    "plt.savefig(\"H1_hists.png\")\n",
    "plt.show()\n"
   ],
   "metadata": {
    "collapsed": false,
    "pycharm": {
     "name": "#%%\n",
     "is_executing": false
    }
   }
  },
  {
   "cell_type": "code",
   "execution_count": 45,
   "outputs": [],
   "source": [
    "# Hypothesis 1: List Algorithm introduces less degree bias then the other sampling methods\n",
    "def obtain_ks_results(results):\n",
    "    # function takes a results object and computes the KS statistics for every row \n",
    "    ks_results = pd.DataFrame(columns=[\"m\",\"alg\",\"statistics\",\"p-value\", \"V\"])\n",
    "    \n",
    "    for i in range(0,results.shape[0]):\n",
    "        # select the true degree distribution\n",
    "        true_degree = convert_degree(results.loc[i][\"true_degree\"]) \n",
    "        true_degree = [x[1] for x in true_degree]\n",
    "        # select the degree distribution of the sampled nodes\n",
    "        sampled_degree = convert_degree(results.loc[i][\"degrees\"]) \n",
    "        sampled_degree = [x[1] for x in sampled_degree]\n",
    "        # perform a two sample KS test\n",
    "        ks_test = ks_2samp(true_degree,sampled_degree)\n",
    "        ks_results = ks_results.append({\"m\":results.loc[i][\"m\"],\"alg\":results.loc[i][\"alg\"],\n",
    "                           \"statistics\":ks_test[0],\"p-value\":ks_test[1], \"V\":results.loc[i][\"V\"]}, ignore_index=True)    \n",
    "    return(ks_results)"
   ],
   "metadata": {
    "collapsed": false,
    "pycharm": {
     "name": "#%%\n",
     "is_executing": false
    }
   }
  },
  {
   "cell_type": "code",
   "execution_count": 46,
   "outputs": [
    {
     "name": "stdout",
     "text": [
      "   m   alg  statistics       p-value    V\n",
      "0  1  list    0.096447  4.059038e-04  1.0\n",
      "1  1  list    0.011925  9.999998e-01  2.0\n",
      "2  1   gmd    0.313000  4.183878e-39  NaN\n",
      "3  1  rcmh    0.343400  5.536764e-47  NaN\n",
      "4  1  list    0.082178  3.996809e-03  1.0\n"
     ],
     "output_type": "stream"
    }
   ],
   "source": [
    "ks_results = obtain_ks_results(results)\n",
    "print(ks_results.head())"
   ],
   "metadata": {
    "collapsed": false,
    "pycharm": {
     "name": "#%%\n",
     "is_executing": false
    }
   }
  },
  {
   "cell_type": "code",
   "execution_count": 47,
   "outputs": [
    {
     "data": {
      "text/plain": "<Figure size 432x288 with 1 Axes>",
      "image/png": "[encoded data removed]"
     },
     "metadata": {
      "needs_background": "light"
     },
     "output_type": "display_data"
    }
   ],
   "source": [
    "# figure for H1\n",
    "plt.scatter(ks_results[(ks_results[\"alg\"]==\"list\") & (ks_results[\"V\"]==2)][\"m\"], \n",
    "            ks_results[(ks_results[\"alg\"]==\"list\") & (ks_results[\"V\"]==2)][\"statistics\"], \n",
    "            c = \"green\", alpha=0.2,label=\"List2\")\n",
    "plt.scatter(ks_results[(ks_results[\"alg\"]==\"list\") & (ks_results[\"V\"]==1)][\"m\"], \n",
    "            ks_results[(ks_results[\"alg\"]==\"list\") & (ks_results[\"V\"]==1)][\"statistics\"], \n",
    "            c = \"black\", alpha=0.2,label=\"List1\")\n",
    "plt.scatter(ks_results[ks_results[\"alg\"]==\"rcmh\"][\"m\"], ks_results[ks_results[\"alg\"]==\"rcmh\"][\"statistics\"], \n",
    "            c = \"red\", alpha=0.2, label=\"RCMH\")\n",
    "plt.scatter(ks_results[ks_results[\"alg\"]==\"gmd\"][\"m\"], ks_results[ks_results[\"alg\"]==\"gmd\"][\"statistics\"], \n",
    "            c = \"blue\", alpha=0.2, label =\"GMD\")\n",
    "plt.legend(loc=\"upper right\")\n",
    "plt.ylabel(\"KS Statistics\")\n",
    "plt.xlabel(\"m\")\n",
    "plt.title(\"H1: The list algorithm outperforms alternatives\")\n",
    "plt.savefig(\"KS.png\")"
   ],
   "metadata": {
    "collapsed": false,
    "pycharm": {
     "name": "#%%\n",
     "is_executing": false
    }
   }
  },
  {
   "cell_type": "code",
   "execution_count": 53,
   "outputs": [],
   "source": [
    "list2_results = results[(results[\"alg\"]==\"list\") & (results[\"V\"]==2)]\n",
    "list1_results = results[(results[\"alg\"]==\"list\") & (results[\"V\"]==1)]\n",
    "rcmh_results = results[results[\"alg\"]==\"rcmh\"]\n",
    "gmd_results = results[results[\"alg\"]==\"gmd\"]"
   ],
   "metadata": {
    "collapsed": false,
    "pycharm": {
     "name": "#%%\n",
     "is_executing": false
    }
   }
  },
  {
   "cell_type": "code",
   "execution_count": 54,
   "outputs": [
    {
     "data": {
      "text/plain": "<Figure size 432x288 with 1 Axes>",
      "image/png": "[encoded data removed]"
     },
     "metadata": {
      "needs_background": "light"
     },
     "output_type": "display_data"
    }
   ],
   "source": [
    "# variability much better seen for green\n",
    "plt.scatter(list2_results[\"true_clust\"], list2_results[\"avg_clustering\"]-list2_results[\"true_clust\"], \n",
    "            c = \"green\", alpha=0.2,label=\"List2\")\n",
    "plt.scatter(rcmh_results[\"true_clust\"], rcmh_results[\"avg_clustering\"]-rcmh_results[\"true_clust\"], \n",
    "            c = \"red\", alpha=0.2, label=\"RCMH\")\n",
    "plt.scatter(gmd_results[\"true_clust\"], gmd_results[\"avg_clustering\"]-gmd_results[\"true_clust\"], \n",
    "            c = \"blue\", alpha=0.2, label =\"GMD\")\n",
    "plt.scatter(list1_results[\"true_clust\"], list1_results[\"avg_clustering\"]-list1_results[\"true_clust\"], \n",
    "            c = \"black\", alpha=0.2,label=\"List1\")\n",
    "\n",
    "\n",
    "plt.legend(loc=\"lower center\")\n",
    "plt.plot(results[\"true_clust\"],results[\"true_clust\"]-results[\"true_clust\"])\n",
    "plt.ylabel(\"Difference of true mean clustering\")\n",
    "plt.xlabel(\"True mean clustering\")\n",
    "plt.savefig(\"diff_true_mean_BA.png\")\n"
   ],
   "metadata": {
    "collapsed": false,
    "pycharm": {
     "name": "#%%\n",
     "is_executing": false
    }
   }
  },
  {
   "cell_type": "code",
   "execution_count": 55,
   "outputs": [
    {
     "data": {
      "text/plain": "<Figure size 432x288 with 1 Axes>",
      "image/png": "[encoded data removed]"
     },
     "metadata": {
      "needs_background": "light"
     },
     "output_type": "display_data"
    }
   ],
   "source": [
    "# H2 Standard deviations of avg clustering coefficients are tiny\n",
    "#rcmh_results.groupby(\"m\").std().index\n",
    "plt.scatter(rcmh_results.groupby(\"m\").std().index, rcmh_results.groupby(\"m\").std()[\"avg_clustering\"], \n",
    "            c = \"blue\", alpha=0.2, label =\"RCMH\")\n",
    "plt.scatter(gmd_results.groupby(\"m\").std().index, gmd_results.groupby(\"m\").std()[\"avg_clustering\"], \n",
    "            c = \"red\", alpha=0.2, label =\"GMD\")\n",
    "plt.scatter(list1_results.groupby(\"m\").std().index, list1_results.groupby(\"m\").std()[\"avg_clustering\"], \n",
    "            c = \"black\", alpha=0.2, label =\"List1\")\n",
    "plt.scatter(list2_results.groupby(\"m\").std().index, list2_results.groupby(\"m\").std()[\"avg_clustering\"], \n",
    "            c = \"green\", alpha=0.2, label =\"List1\")\n",
    "plt.ylim(-0.001,0.002)\n",
    "plt.legend(loc=\"lower center\")\n",
    "plt.xlabel(\"m\")\n",
    "plt.ylabel(\"standard deviation of estimation\")\n",
    "plt.savefig(\"std_ba_plot.png\")"
   ],
   "metadata": {
    "collapsed": false,
    "pycharm": {
     "name": "#%%\n",
     "is_executing": false
    }
   }
  },
  {
   "cell_type": "code",
   "execution_count": 56,
   "outputs": [],
   "source": [
    "# H3 computing the samples in time beneficial \n",
    "gnp_results = pd.read_csv(\"results/gnp.csv\")"
   ],
   "metadata": {
    "collapsed": false,
    "pycharm": {
     "name": "#%%\n",
     "is_executing": false
    }
   }
  },
  {
   "cell_type": "code",
   "execution_count": 58,
   "outputs": [],
   "source": [
    "grouped_gnp = gnp_results.groupby([\"alg\",\"p\"]).mean()\n",
    "grouped_resetted =grouped_gnp.reset_index()"
   ],
   "metadata": {
    "collapsed": false,
    "pycharm": {
     "name": "#%%\n",
     "is_executing": false
    }
   }
  },
  {
   "cell_type": "code",
   "execution_count": 60,
   "outputs": [
    {
     "data": {
      "text/plain": "<Figure size 432x288 with 1 Axes>",
      "image/png": "[encoded data removed]"
     },
     "metadata": {
      "needs_background": "light"
     },
     "output_type": "display_data"
    }
   ],
   "source": [
    "plt.plot(grouped_resetted[grouped_resetted[\"alg\"]==\"list\"][\"true_clust\"],grouped_resetted[grouped_resetted[\"alg\"]==\"list\"][\"time_sample\"], label=\"List\")\n",
    "plt.plot(grouped_resetted[grouped_resetted[\"alg\"]==\"gmd\"][\"true_clust\"],grouped_resetted[grouped_resetted[\"alg\"]==\"gmd\"][\"time_sample\"], label=\"GMD\")\n",
    "plt.plot(grouped_resetted[grouped_resetted[\"alg\"]==\"rcmh\"][\"true_clust\"],grouped_resetted[grouped_resetted[\"alg\"]==\"rcmh\"][\"time_sample\"], label = \"RCMH\")\n",
    "plt.yscale(\"log\")\n",
    "plt.xlabel(\"avg clustering coefficient\")\n",
    "plt.ylabel(\"time in seconds (log scale)\")\n",
    "plt.legend(loc=\"right\")\n",
    "\n",
    "plt.title(\"Density influences run times\")\n",
    "plt.savefig(\"running_time_density.png\")"
   ],
   "metadata": {
    "collapsed": false,
    "pycharm": {
     "name": "#%%\n",
     "is_executing": false
    }
   }
  },
  {
   "cell_type": "code",
   "execution_count": 4,
   "outputs": [],
   "source": [
    "# H4 show the running times of the algorithms including sampling\n",
    "enron = pd.read_csv(\"results/enron.csv\")\n",
    "web = pd.read_csv(\"results/web.csv\")\n",
    "web_stan = pd.read_csv(\"results/web_stan.csv\")"
   ],
   "metadata": {
    "collapsed": false,
    "pycharm": {
     "name": "#%%\n",
     "is_executing": false
    }
   }
  },
  {
   "cell_type": "code",
   "execution_count": 9,
   "outputs": [
    {
     "name": "stdout",
     "text": [
      "Enron Times\n",
      "alg\n",
      "gmd     5.930\n",
      "list    0.175\n",
      "rcmh    4.560\n",
      "Name: time_clust, dtype: float64\n",
      "Web BerkStan Times\n",
      "alg\n",
      "gmd     367.850\n",
      "list     44.745\n",
      "rcmh    255.815\n",
      "Name: time_clust, dtype: float64\n",
      "Web Stanford Times\n",
      "alg\n",
      "gmd     437.890\n",
      "list     22.985\n",
      "rcmh      1.850\n",
      "Name: time_clust, dtype: float64\n"
     ],
     "output_type": "stream"
    }
   ],
   "source": [
    "print(\"Enron Times\")\n",
    "print(enron.groupby(\"alg\").mean()[\"time_clust\"])\n",
    "print(\"Web BerkStan Times\")\n",
    "print(web.groupby(\"alg\").mean()[\"time_clust\"])\n",
    "print(\"Web Stanford Times\")\n",
    "print(web_stan.groupby(\"alg\").mean()[\"time_clust\"])"
   ],
   "metadata": {
    "collapsed": false,
    "pycharm": {
     "name": "#%%\n",
     "is_executing": false
    }
   }
  },
  {
   "cell_type": "code",
   "execution_count": 35,
   "outputs": [
    {
     "data": {
      "text/plain": "422240"
     },
     "metadata": {},
     "output_type": "execute_result",
     "execution_count": 35
    }
   ],
   "source": [
    "len(web_stan[\"degrees\"][1])"
   ],
   "metadata": {
    "collapsed": false,
    "pycharm": {
     "name": "#%%\n",
     "is_executing": false
    }
   }
  },
  {
   "cell_type": "code",
   "execution_count": 27,
   "outputs": [
    {
     "data": {
      "text/plain": "'gmd'"
     },
     "metadata": {},
     "output_type": "execute_result",
     "execution_count": 27
    }
   ],
   "source": [
    "web_stan[\"alg\"][2]"
   ],
   "metadata": {
    "collapsed": false,
    "pycharm": {
     "name": "#%%\n",
     "is_executing": false
    }
   }
  }
 ],
 "metadata": {
  "kernelspec": {
   "display_name": "Python 3",
   "language": "python",
   "name": "python3"
  },
  "language_info": {
   "codemirror_mode": {
    "name": "ipython",
    "version": 2
   },
   "file_extension": ".py",
   "mimetype": "text/x-python",
   "name": "python",
   "nbconvert_exporter": "python",
   "pygments_lexer": "ipython2",
   "version": "2.7.6"
  },
  "pycharm": {
   "stem_cell": {
    "cell_type": "raw",
    "source": [],
    "metadata": {
     "collapsed": false
    }
   }
  }
 },
 "nbformat": 4,
 "nbformat_minor": 0
}