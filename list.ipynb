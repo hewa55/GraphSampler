{
 "cells": [
  {
   "cell_type": "code",
   "execution_count": 2,
   "metadata": {
    "collapsed": true,
    "pycharm": {
     "is_executing": false
    }
   },
   "outputs": [],
   "source": [
    "import networkx as nx\n",
    "import pandas as pd\n",
    "import matplotlib.pyplot as plt\n",
    "from random import choice\n",
    "import math\n",
    "from collections import Counter\n",
    "import numpy as np"
   ]
  },
  {
   "cell_type": "code",
   "execution_count": 29,
   "outputs": [
    {
     "data": {
      "text/plain": "<Figure size 432x288 with 1 Axes>",
      "image/png": "[encoded data removed]"
     },
     "metadata": {},
     "output_type": "display_data"
    }
   ],
   "source": [
    "g = nx.Graph()\n",
    "g.add_nodes_from(\"ABCDEFGHI\")\n",
    "g.add_edges_from([(\"A\",\"B\"),(\"B\",\"H\"),(\"B\",\"E\"),(\"H\",\"E\"),(\"E\",\"I\"),(\"E\",\"C\"),(\"C\",\"F\"),(\"F\",\"G\")\n",
    "                  , (\"A\",\"C\"),(\"A\",\"D\"),(\"F\",\"G\"),(\"D\",\"G\")])\n",
    "nx.draw(g, with_labels=True)"
   ],
   "metadata": {
    "collapsed": false,
    "pycharm": {
     "name": "#%%\n",
     "is_executing": false
    }
   }
  },
  {
   "cell_type": "code",
   "execution_count": 30,
   "outputs": [],
   "source": [
    "def list_sampling_base(graph, target_size,V2= False):\n",
    "    sampled_nodes  = [choice(list(graph.nodes))]\n",
    "    sampled_edges = list()\n",
    "    temp_store = [sampled_nodes[0]]\n",
    "    CL = set()\n",
    "    frequency = Counter()\n",
    "    # node selection\n",
    "    while(len(sampled_nodes)<target_size*len(graph.nodes)):\n",
    "        for j in temp_store:\n",
    "            neighborSet = set([n for n in graph[j]])\n",
    "            frequency.update(neighborSet)\n",
    "            CL = CL.union(neighborSet)\n",
    "        CL = CL - set(sampled_nodes)\n",
    "        k = math.ceil(math.sqrt(len(CL)))\n",
    "        temp_store = []\n",
    "        p = list()\n",
    "        if(V2):\n",
    "            p = list()\n",
    "            for i in CL:\n",
    "                p_hat = 1/graph.degree[i] + (1-(1-1/graph.degree[i])**frequency[i])\n",
    "                p.append(p_hat)\n",
    "            p_total = sum(p)\n",
    "            p = [x/p_total for x in p]\n",
    "        else:\n",
    "            p = [1/len(CL)] * len(CL)    \n",
    "            \n",
    "            \n",
    "        random_nodes = np.random.choice(a= list(CL),size = k, replace= False,p=p)\n",
    "        CL.discard(set(random_nodes))\n",
    "        if(len(CL)==0):\n",
    "            CL=set()\n",
    "        temp_store.extend(random_nodes)\n",
    "        sampled_nodes.extend(random_nodes)\n",
    "             \n",
    "    # graph induction\n",
    "    for edge in graph.edges:\n",
    "        node1 = edge[0]\n",
    "        node2 = edge[1]\n",
    "        if(node1 in sampled_nodes and node2 in sampled_nodes):\n",
    "            sampled_edges.append(edge)\n",
    "    \n",
    "    return sampled_nodes, sampled_edges"
   ],
   "metadata": {
    "collapsed": false,
    "pycharm": {
     "name": "#%%\n",
     "is_executing": false
    }
   }
  },
  {
   "cell_type": "code",
   "execution_count": 31,
   "outputs": [
    {
     "data": {
      "text/plain": "(['E', 'I', 'B', 'C', 'A'],\n [('A', 'B'), ('A', 'C'), ('B', 'E'), ('C', 'E'), ('E', 'I')])"
     },
     "metadata": {},
     "output_type": "execute_result",
     "execution_count": 31
    }
   ],
   "source": [
    "list_sampling_base(g,0.5)"
   ],
   "metadata": {
    "collapsed": false,
    "pycharm": {
     "name": "#%%\n",
     "is_executing": false
    }
   }
  },
  {
   "cell_type": "code",
   "execution_count": 32,
   "outputs": [
    {
     "data": {
      "text/plain": "'D'"
     },
     "metadata": {},
     "output_type": "execute_result",
     "execution_count": 32
    }
   ],
   "source": [
    "choice(['A', 'B', 'C', 'D', 'E', 'F', 'G', 'H', 'I'])"
   ],
   "metadata": {
    "collapsed": false,
    "pycharm": {
     "name": "#%%\n",
     "is_executing": false
    }
   }
  },
  {
   "cell_type": "code",
   "execution_count": 33,
   "outputs": [
    {
     "name": "stdout",
     "text": [
      "[('A', 'B'), ('A', 'C'), ('A', 'D'), ('B', 'H'), ('B', 'E'), ('C', 'E'), ('C', 'F'), ('D', 'G'), ('E', 'H'), ('E', 'I'), ('F', 'G')]\n"
     ],
     "output_type": "stream"
    }
   ],
   "source": [
    "print(g.edges)"
   ],
   "metadata": {
    "collapsed": false,
    "pycharm": {
     "name": "#%%\n",
     "is_executing": false
    }
   }
  },
  {
   "cell_type": "code",
   "execution_count": 34,
   "outputs": [
    {
     "data": {
      "text/plain": "'H'"
     },
     "metadata": {},
     "output_type": "execute_result",
     "execution_count": 34
    }
   ],
   "source": [
    "\n",
    "np.random.choice([\"B\",\"C\",\"H\"], p = [0.2857142857142857, 0.2857142857142857, 0.4285714285714286])"
   ],
   "metadata": {
    "collapsed": false,
    "pycharm": {
     "name": "#%%\n",
     "is_executing": false
    }
   }
  },
  {
   "cell_type": "code",
   "execution_count": 35,
   "outputs": [
    {
     "data": {
      "text/plain": "AtlasView({'B': {}, 'C': {}, 'D': {}})"
     },
     "metadata": {},
     "output_type": "execute_result",
     "execution_count": 35
    }
   ],
   "source": [
    "g[\"A\"]"
   ],
   "metadata": {
    "collapsed": false,
    "pycharm": {
     "name": "#%%\n",
     "is_executing": false
    }
   }
  },
  {
   "cell_type": "code",
   "execution_count": null,
   "outputs": [],
   "source": [
    "\n"
   ],
   "metadata": {
    "collapsed": false,
    "pycharm": {
     "name": "#%%\n"
    }
   }
  }
 ],
 "metadata": {
  "kernelspec": {
   "display_name": "Python 3",
   "language": "python",
   "name": "python3"
  },
  "language_info": {
   "codemirror_mode": {
    "name": "ipython",
    "version": 2
   },
   "file_extension": ".py",
   "mimetype": "text/x-python",
   "name": "python",
   "nbconvert_exporter": "python",
   "pygments_lexer": "ipython2",
   "version": "2.7.6"
  },
  "pycharm": {
   "stem_cell": {
    "cell_type": "raw",
    "source": [],
    "metadata": {
     "collapsed": false
    }
   }
  }
 },
 "nbformat": 4,
 "nbformat_minor": 0
}