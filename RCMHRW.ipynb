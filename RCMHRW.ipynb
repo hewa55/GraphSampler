{
 "cells": [
  {
   "cell_type": "code",
   "execution_count": 1,
   "metadata": {
    "collapsed": true,
    "pycharm": {
     "is_executing": false
    }
   },
   "outputs": [],
   "source": [
    "import networkx as nx\n",
    "import pandas as pd\n",
    "import matplotlib.pyplot as plt\n",
    "from random import choice\n",
    "import math\n",
    "from collections import Counter\n",
    "import numpy as np"
   ]
  },
  {
   "cell_type": "code",
   "execution_count": 2,
   "outputs": [
    {
     "data": {
      "text/plain": "<Figure size 432x288 with 1 Axes>",
      "image/png": "[encoded data removed]"
     },
     "metadata": {},
     "output_type": "display_data"
    }
   ],
   "source": [
    "g = nx.Graph()\n",
    "g.add_nodes_from(\"ABCDEFGHI\")\n",
    "g.add_edges_from([(\"A\",\"B\"),(\"B\",\"H\"),(\"B\",\"E\"),(\"H\",\"E\"),(\"E\",\"I\"),(\"E\",\"C\"),(\"C\",\"F\"),(\"F\",\"G\")\n",
    "                  , (\"A\",\"C\"),(\"A\",\"D\"),(\"F\",\"G\"),(\"D\",\"G\")])\n",
    "nx.draw(g, with_labels=True)"
   ],
   "metadata": {
    "collapsed": false,
    "pycharm": {
     "name": "#%%\n",
     "is_executing": false
    }
   }
  },
  {
   "cell_type": "code",
   "execution_count": 24,
   "outputs": [],
   "source": [
    "def rcmhrw(graph, target_size, alpha = 0):\n",
    "    current_node = np.random.choice(a= list(graph),size = 1)[0]\n",
    "    sampled_nodes = []\n",
    "    sampled_edges = list()\n",
    "    \n",
    "    while(len(sampled_nodes)<target_size*len(graph.nodes)):\n",
    "        v = np.random.choice([n for n in graph[current_node]], size=1)[0]\n",
    "        q = np.random.uniform(0,1,size=1)\n",
    "        if(q<= (graph.degree(current_node)/graph.degree(v))**alpha):\n",
    "            if(current_node not in sampled_nodes):\n",
    "                sampled_nodes.append(current_node)\n",
    "            if((current_node,v) not in sampled_edges):\n",
    "                sampled_edges.append((current_node,v))\n",
    "            current_node = v\n",
    "        \n",
    "    return sampled_nodes,sampled_edges"
   ],
   "metadata": {
    "collapsed": false,
    "pycharm": {
     "name": "#%%\n",
     "is_executing": false
    }
   }
  },
  {
   "cell_type": "code",
   "execution_count": 28,
   "outputs": [
    {
     "data": {
      "text/plain": "(['B', 'A', 'E', 'H', 'C'],\n [('B', 'A'),\n  ('A', 'B'),\n  ('B', 'E'),\n  ('E', 'H'),\n  ('H', 'E'),\n  ('E', 'C'),\n  ('C', 'A')])"
     },
     "metadata": {},
     "output_type": "execute_result",
     "execution_count": 28
    }
   ],
   "source": [
    "rcmhrw(g,0.5,1)       \n",
    "            "
   ],
   "metadata": {
    "collapsed": false,
    "pycharm": {
     "name": "#%%\n",
     "is_executing": false
    }
   }
  }
 ],
 "metadata": {
  "kernelspec": {
   "display_name": "Python 3",
   "language": "python",
   "name": "python3"
  },
  "language_info": {
   "codemirror_mode": {
    "name": "ipython",
    "version": 2
   },
   "file_extension": ".py",
   "mimetype": "text/x-python",
   "name": "python",
   "nbconvert_exporter": "python",
   "pygments_lexer": "ipython2",
   "version": "2.7.6"
  },
  "pycharm": {
   "stem_cell": {
    "cell_type": "raw",
    "source": [],
    "metadata": {
     "collapsed": false
    }
   }
  }
 },
 "nbformat": 4,
 "nbformat_minor": 0
}